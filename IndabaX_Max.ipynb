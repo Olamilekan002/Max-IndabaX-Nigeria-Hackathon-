{
 "cells": [
  {
   "cell_type": "code",
   "execution_count": 1,
   "id": "c923329b",
   "metadata": {},
   "outputs": [],
   "source": [
    "import numpy as np\n",
    "import pandas as pd\n",
    "import seaborn as sns\n",
    "import matplotlib.pyplot as plt\n",
    "from sklearn.preprocessing import LabelEncoder\n",
    "from sklearn.preprocessing import StandardScaler, Normalizer\n",
    "from sklearn.model_selection import StratifiedKFold,train_test_split, KFold\n",
    "from sklearn.metrics import log_loss\n",
    "from sklearn.tree import DecisionTreeClassifier\n",
    "from sklearn.ensemble import RandomForestClassifier\n",
    "from catboost import CatBoostClassifier\n",
    "from xgboost import XGBClassifier\n",
    "from lightgbm import LGBMClassifier\n",
    "from sklearn.decomposition import PCA"
   ]
  },
  {
   "cell_type": "code",
   "execution_count": 2,
   "id": "8ccd6113",
   "metadata": {},
   "outputs": [],
   "source": [
    "%matplotlib inline"
   ]
  },
  {
   "cell_type": "code",
   "execution_count": 187,
   "id": "6e350dc5",
   "metadata": {},
   "outputs": [],
   "source": [
    "train = pd.read_csv('train.csv')\n",
    "test = pd.read_csv('test.csv')\n",
    "sub = pd.read_csv('sample_submission.csv')"
   ]
  },
  {
   "cell_type": "code",
   "execution_count": 188,
   "id": "4cf0ae9a",
   "metadata": {},
   "outputs": [
    {
     "data": {
      "text/plain": [
       "(306925, 10)"
      ]
     },
     "execution_count": 188,
     "metadata": {},
     "output_type": "execute_result"
    }
   ],
   "source": [
    "split = train.shape[0]\n",
    "df = pd.concat([train, test], axis=0)\n",
    "df.shape"
   ]
  },
  {
   "cell_type": "code",
   "execution_count": 189,
   "id": "0c9547a4",
   "metadata": {},
   "outputs": [
    {
     "data": {
      "text/html": [
       "<div>\n",
       "<style scoped>\n",
       "    .dataframe tbody tr th:only-of-type {\n",
       "        vertical-align: middle;\n",
       "    }\n",
       "\n",
       "    .dataframe tbody tr th {\n",
       "        vertical-align: top;\n",
       "    }\n",
       "\n",
       "    .dataframe thead th {\n",
       "        text-align: right;\n",
       "    }\n",
       "</style>\n",
       "<table border=\"1\" class=\"dataframe\">\n",
       "  <thead>\n",
       "    <tr style=\"text-align: right;\">\n",
       "      <th></th>\n",
       "      <th>ID</th>\n",
       "      <th>subscriber_id</th>\n",
       "      <th>date_time</th>\n",
       "      <th>agent_id</th>\n",
       "      <th>entry_channel_id</th>\n",
       "      <th>stage_status</th>\n",
       "      <th>subscriber_age</th>\n",
       "      <th>gender</th>\n",
       "      <th>city</th>\n",
       "      <th>label</th>\n",
       "    </tr>\n",
       "  </thead>\n",
       "  <tbody>\n",
       "    <tr>\n",
       "      <th>0</th>\n",
       "      <td>ID_PV1E3QPT</td>\n",
       "      <td>ecc55e48-fc41-4d07-af5b-4538f1644337</td>\n",
       "      <td>2022-07-18T14:27:33.109176+01:00</td>\n",
       "      <td>e06b3324-a7a7-480d-bd1e-3b13ddd432a5</td>\n",
       "      <td>4</td>\n",
       "      <td>NaN</td>\n",
       "      <td>40.0</td>\n",
       "      <td>male</td>\n",
       "      <td>Ibadan</td>\n",
       "      <td>Issued Guarantor Form</td>\n",
       "    </tr>\n",
       "    <tr>\n",
       "      <th>1</th>\n",
       "      <td>ID_JV7ZCDMD</td>\n",
       "      <td>dd1fd326-030a-4538-b18d-4152febdd8f6</td>\n",
       "      <td>2022-08-05T11:19:03.876308+01:00</td>\n",
       "      <td>55b84aa7-3545-4e03-a9b4-b0ae08c15042</td>\n",
       "      <td>4</td>\n",
       "      <td>NaN</td>\n",
       "      <td>36.0</td>\n",
       "      <td>male</td>\n",
       "      <td>Abeokuta</td>\n",
       "      <td>Issued Guarantor Form</td>\n",
       "    </tr>\n",
       "    <tr>\n",
       "      <th>2</th>\n",
       "      <td>ID_DN225KNK</td>\n",
       "      <td>8cfc6368-85fc-486e-b420-321e08fb781e</td>\n",
       "      <td>2021-08-13T11:56:09.789814+01:00</td>\n",
       "      <td>49c437b1-2abc-45b0-91cb-c5334172faf1</td>\n",
       "      <td>4</td>\n",
       "      <td>NaN</td>\n",
       "      <td>30.0</td>\n",
       "      <td>male</td>\n",
       "      <td>Ibadan</td>\n",
       "      <td>Top of the funnel</td>\n",
       "    </tr>\n",
       "    <tr>\n",
       "      <th>3</th>\n",
       "      <td>ID_10O55XLL</td>\n",
       "      <td>2c0bbcfa-f19e-4f99-b812-10c07a84f119</td>\n",
       "      <td>2022-05-07T19:00:36.916704+01:00</td>\n",
       "      <td>07887ae3-2c35-49f0-95ec-dbf22719794f</td>\n",
       "      <td>4</td>\n",
       "      <td>NaN</td>\n",
       "      <td>45.0</td>\n",
       "      <td>male</td>\n",
       "      <td>Ibadan</td>\n",
       "      <td>Top of the funnel</td>\n",
       "    </tr>\n",
       "    <tr>\n",
       "      <th>4</th>\n",
       "      <td>ID_RY926X3E</td>\n",
       "      <td>c7cab337-cdbd-41e7-9b65-108982e59c0c</td>\n",
       "      <td>2021-01-21T15:33:41.00366+01:00</td>\n",
       "      <td>49c437b1-2abc-45b0-91cb-c5334172faf1</td>\n",
       "      <td>4</td>\n",
       "      <td>NaN</td>\n",
       "      <td>30.0</td>\n",
       "      <td>male</td>\n",
       "      <td>Ibadan</td>\n",
       "      <td>Top of the funnel</td>\n",
       "    </tr>\n",
       "  </tbody>\n",
       "</table>\n",
       "</div>"
      ],
      "text/plain": [
       "            ID                         subscriber_id  \\\n",
       "0  ID_PV1E3QPT  ecc55e48-fc41-4d07-af5b-4538f1644337   \n",
       "1  ID_JV7ZCDMD  dd1fd326-030a-4538-b18d-4152febdd8f6   \n",
       "2  ID_DN225KNK  8cfc6368-85fc-486e-b420-321e08fb781e   \n",
       "3  ID_10O55XLL  2c0bbcfa-f19e-4f99-b812-10c07a84f119   \n",
       "4  ID_RY926X3E  c7cab337-cdbd-41e7-9b65-108982e59c0c   \n",
       "\n",
       "                          date_time                              agent_id  \\\n",
       "0  2022-07-18T14:27:33.109176+01:00  e06b3324-a7a7-480d-bd1e-3b13ddd432a5   \n",
       "1  2022-08-05T11:19:03.876308+01:00  55b84aa7-3545-4e03-a9b4-b0ae08c15042   \n",
       "2  2021-08-13T11:56:09.789814+01:00  49c437b1-2abc-45b0-91cb-c5334172faf1   \n",
       "3  2022-05-07T19:00:36.916704+01:00  07887ae3-2c35-49f0-95ec-dbf22719794f   \n",
       "4   2021-01-21T15:33:41.00366+01:00  49c437b1-2abc-45b0-91cb-c5334172faf1   \n",
       "\n",
       "   entry_channel_id stage_status  subscriber_age gender      city  \\\n",
       "0                 4          NaN            40.0   male    Ibadan   \n",
       "1                 4          NaN            36.0   male  Abeokuta   \n",
       "2                 4          NaN            30.0   male    Ibadan   \n",
       "3                 4          NaN            45.0   male    Ibadan   \n",
       "4                 4          NaN            30.0   male    Ibadan   \n",
       "\n",
       "                   label  \n",
       "0  Issued Guarantor Form  \n",
       "1  Issued Guarantor Form  \n",
       "2      Top of the funnel  \n",
       "3      Top of the funnel  \n",
       "4      Top of the funnel  "
      ]
     },
     "execution_count": 189,
     "metadata": {},
     "output_type": "execute_result"
    }
   ],
   "source": [
    "df.head()"
   ]
  },
  {
   "cell_type": "code",
   "execution_count": 190,
   "id": "08e245dd",
   "metadata": {},
   "outputs": [
    {
     "data": {
      "text/html": [
       "<div>\n",
       "<style scoped>\n",
       "    .dataframe tbody tr th:only-of-type {\n",
       "        vertical-align: middle;\n",
       "    }\n",
       "\n",
       "    .dataframe tbody tr th {\n",
       "        vertical-align: top;\n",
       "    }\n",
       "\n",
       "    .dataframe thead th {\n",
       "        text-align: right;\n",
       "    }\n",
       "</style>\n",
       "<table border=\"1\" class=\"dataframe\">\n",
       "  <thead>\n",
       "    <tr style=\"text-align: right;\">\n",
       "      <th></th>\n",
       "      <th>ID</th>\n",
       "      <th>subscriber_id</th>\n",
       "      <th>date_time</th>\n",
       "      <th>agent_id</th>\n",
       "      <th>entry_channel_id</th>\n",
       "      <th>stage_status</th>\n",
       "      <th>subscriber_age</th>\n",
       "      <th>gender</th>\n",
       "      <th>city</th>\n",
       "    </tr>\n",
       "  </thead>\n",
       "  <tbody>\n",
       "    <tr>\n",
       "      <th>0</th>\n",
       "      <td>ID_04I3F51N</td>\n",
       "      <td>40a8de13-ed2a-46c9-805b-3603ee5108bc</td>\n",
       "      <td>2021-09-23T11:42:19.449752+01:00</td>\n",
       "      <td>58ffddff-7d92-4668-b3c8-3f6b9e523ee0</td>\n",
       "      <td>4</td>\n",
       "      <td>NaN</td>\n",
       "      <td>35.0</td>\n",
       "      <td>male</td>\n",
       "      <td>Ibadan</td>\n",
       "    </tr>\n",
       "    <tr>\n",
       "      <th>1</th>\n",
       "      <td>ID_RL7OZ03G</td>\n",
       "      <td>be6b5a6f-233d-4a3c-85c9-0d14baa8ceef</td>\n",
       "      <td>2021-06-15T14:33:14.917173+01:00</td>\n",
       "      <td>5939bebb-79e4-442c-a556-2d66219bfaac</td>\n",
       "      <td>4</td>\n",
       "      <td>NaN</td>\n",
       "      <td>35.0</td>\n",
       "      <td>male</td>\n",
       "      <td>Akure</td>\n",
       "    </tr>\n",
       "    <tr>\n",
       "      <th>2</th>\n",
       "      <td>ID_880UB1KT</td>\n",
       "      <td>90eda8c4-6463-4f66-a458-7850dab3acf1</td>\n",
       "      <td>2022-01-18T12:13:03.105838+01:00</td>\n",
       "      <td>0676b8d9-cb2e-499f-a113-a4ea7cab5290</td>\n",
       "      <td>4</td>\n",
       "      <td>NaN</td>\n",
       "      <td>36.0</td>\n",
       "      <td>male</td>\n",
       "      <td>Ibadan</td>\n",
       "    </tr>\n",
       "    <tr>\n",
       "      <th>3</th>\n",
       "      <td>ID_P46W8LVS</td>\n",
       "      <td>05cb42d3-66fa-4aaa-acd0-c0ce2f6775d3</td>\n",
       "      <td>2021-08-10T16:32:58.144678+01:00</td>\n",
       "      <td>a248d29e-c5ea-4cf9-ad3e-f200eac89358</td>\n",
       "      <td>4</td>\n",
       "      <td>NaN</td>\n",
       "      <td>40.0</td>\n",
       "      <td>male</td>\n",
       "      <td>Akure</td>\n",
       "    </tr>\n",
       "    <tr>\n",
       "      <th>4</th>\n",
       "      <td>ID_JHON927V</td>\n",
       "      <td>c64aea9b-b0f0-4f91-a2fe-720a6d2e4ec4</td>\n",
       "      <td>2022-05-18T09:58:43.659402+01:00</td>\n",
       "      <td>257532f9-13a5-4304-92e4-3007a734a5e6</td>\n",
       "      <td>4</td>\n",
       "      <td>NaN</td>\n",
       "      <td>30.0</td>\n",
       "      <td>male</td>\n",
       "      <td>Oshogbo</td>\n",
       "    </tr>\n",
       "  </tbody>\n",
       "</table>\n",
       "</div>"
      ],
      "text/plain": [
       "            ID                         subscriber_id  \\\n",
       "0  ID_04I3F51N  40a8de13-ed2a-46c9-805b-3603ee5108bc   \n",
       "1  ID_RL7OZ03G  be6b5a6f-233d-4a3c-85c9-0d14baa8ceef   \n",
       "2  ID_880UB1KT  90eda8c4-6463-4f66-a458-7850dab3acf1   \n",
       "3  ID_P46W8LVS  05cb42d3-66fa-4aaa-acd0-c0ce2f6775d3   \n",
       "4  ID_JHON927V  c64aea9b-b0f0-4f91-a2fe-720a6d2e4ec4   \n",
       "\n",
       "                          date_time                              agent_id  \\\n",
       "0  2021-09-23T11:42:19.449752+01:00  58ffddff-7d92-4668-b3c8-3f6b9e523ee0   \n",
       "1  2021-06-15T14:33:14.917173+01:00  5939bebb-79e4-442c-a556-2d66219bfaac   \n",
       "2  2022-01-18T12:13:03.105838+01:00  0676b8d9-cb2e-499f-a113-a4ea7cab5290   \n",
       "3  2021-08-10T16:32:58.144678+01:00  a248d29e-c5ea-4cf9-ad3e-f200eac89358   \n",
       "4  2022-05-18T09:58:43.659402+01:00  257532f9-13a5-4304-92e4-3007a734a5e6   \n",
       "\n",
       "   entry_channel_id stage_status  subscriber_age gender     city  \n",
       "0                 4          NaN            35.0   male   Ibadan  \n",
       "1                 4          NaN            35.0   male    Akure  \n",
       "2                 4          NaN            36.0   male   Ibadan  \n",
       "3                 4          NaN            40.0   male    Akure  \n",
       "4                 4          NaN            30.0   male  Oshogbo  "
      ]
     },
     "execution_count": 190,
     "metadata": {},
     "output_type": "execute_result"
    }
   ],
   "source": [
    "test.head()"
   ]
  },
  {
   "cell_type": "code",
   "execution_count": 191,
   "id": "e4ca4025",
   "metadata": {},
   "outputs": [
    {
     "data": {
      "text/plain": [
       "array(['Issued Guarantor Form', 'Top of the funnel', 'Test Scheduled',\n",
       "       'Received Guarantor Form', 'Awaiting Activation',\n",
       "       'Awaiting Vehicle Pickup', 'Onboarding', 'Activated', 'Tested',\n",
       "       'Checked In For Test', 'In Verification', 'Backlog', nan],\n",
       "      dtype=object)"
      ]
     },
     "execution_count": 191,
     "metadata": {},
     "output_type": "execute_result"
    }
   ],
   "source": [
    "df['label'].unique()"
   ]
  },
  {
   "cell_type": "code",
   "execution_count": 192,
   "id": "5b75a57c",
   "metadata": {},
   "outputs": [
    {
     "data": {
      "text/plain": [
       "12"
      ]
     },
     "execution_count": 192,
     "metadata": {},
     "output_type": "execute_result"
    }
   ],
   "source": [
    "df['label'].nunique()"
   ]
  },
  {
   "cell_type": "code",
   "execution_count": 193,
   "id": "7527f5b7",
   "metadata": {},
   "outputs": [
    {
     "data": {
      "text/plain": [
       "ID                       0\n",
       "subscriber_id            0\n",
       "date_time                0\n",
       "agent_id              1665\n",
       "entry_channel_id         0\n",
       "stage_status        260732\n",
       "subscriber_age        2499\n",
       "gender                 567\n",
       "city                   295\n",
       "label                92078\n",
       "dtype: int64"
      ]
     },
     "execution_count": 193,
     "metadata": {},
     "output_type": "execute_result"
    }
   ],
   "source": [
    "df.isna().sum()"
   ]
  },
  {
   "cell_type": "code",
   "execution_count": 194,
   "id": "ec84c8ff",
   "metadata": {},
   "outputs": [
    {
     "data": {
      "text/plain": [
       "(306925, 10)"
      ]
     },
     "execution_count": 194,
     "metadata": {},
     "output_type": "execute_result"
    }
   ],
   "source": [
    "df.shape"
   ]
  },
  {
   "cell_type": "code",
   "execution_count": 195,
   "id": "6910fceb",
   "metadata": {},
   "outputs": [
    {
     "data": {
      "text/plain": [
       "88646"
      ]
     },
     "execution_count": 195,
     "metadata": {},
     "output_type": "execute_result"
    }
   ],
   "source": [
    "df.subscriber_id.nunique()"
   ]
  },
  {
   "cell_type": "code",
   "execution_count": 196,
   "id": "37a03039",
   "metadata": {},
   "outputs": [
    {
     "data": {
      "text/plain": [
       "425"
      ]
     },
     "execution_count": 196,
     "metadata": {},
     "output_type": "execute_result"
    }
   ],
   "source": [
    "df.agent_id.nunique()"
   ]
  },
  {
   "cell_type": "code",
   "execution_count": 197,
   "id": "470a5148",
   "metadata": {
    "scrolled": true
   },
   "outputs": [
    {
     "data": {
      "text/plain": [
       "49c437b1-2abc-45b0-91cb-c5334172faf1    22311\n",
       "ae31f6f4-2c62-4079-a050-cd88263887d4    15366\n",
       "2e28d108-8f22-4e8b-ab1e-eb50e144eca9     8755\n",
       "f8f5f298-e4a1-472f-a7e8-a44c5435f973     8409\n",
       "58ffddff-7d92-4668-b3c8-3f6b9e523ee0     8142\n",
       "Name: agent_id, dtype: int64"
      ]
     },
     "execution_count": 197,
     "metadata": {},
     "output_type": "execute_result"
    }
   ],
   "source": [
    "df.agent_id.value_counts()[:5]"
   ]
  },
  {
   "cell_type": "code",
   "execution_count": 198,
   "id": "e1aabcf6",
   "metadata": {
    "scrolled": true
   },
   "outputs": [
    {
     "data": {
      "text/plain": [
       "306925"
      ]
     },
     "execution_count": 198,
     "metadata": {},
     "output_type": "execute_result"
    }
   ],
   "source": [
    "df.ID.nunique()"
   ]
  },
  {
   "cell_type": "code",
   "execution_count": 199,
   "id": "aac8421e",
   "metadata": {},
   "outputs": [],
   "source": [
    "df.date_time = pd.to_datetime(df['date_time'])\n",
    "df['year'] = df.date_time.dt.year\n",
    "df['month'] = df.date_time.dt.month\n",
    "df['day'] = df.date_time.dt.day"
   ]
  },
  {
   "cell_type": "code",
   "execution_count": 200,
   "id": "ce9d37b1",
   "metadata": {},
   "outputs": [],
   "source": [
    "df.drop(['ID', 'date_time'], axis=1, inplace=True)"
   ]
  },
  {
   "cell_type": "code",
   "execution_count": 201,
   "id": "b7ecee0f",
   "metadata": {},
   "outputs": [
    {
     "data": {
      "text/plain": [
       "male           303663\n",
       "female           2312\n",
       "undisclosed       363\n",
       "Male               12\n",
       "Female              8\n",
       "Name: gender, dtype: int64"
      ]
     },
     "execution_count": 201,
     "metadata": {},
     "output_type": "execute_result"
    }
   ],
   "source": [
    "df.gender.value_counts()"
   ]
  },
  {
   "cell_type": "code",
   "execution_count": 202,
   "id": "b54c0244",
   "metadata": {},
   "outputs": [],
   "source": [
    "df.gender = df.gender.replace({'Male':'male', 'Female':'female'})"
   ]
  },
  {
   "cell_type": "code",
   "execution_count": 203,
   "id": "98fcb861",
   "metadata": {},
   "outputs": [
    {
     "data": {
      "text/plain": [
       "'male'"
      ]
     },
     "execution_count": 203,
     "metadata": {},
     "output_type": "execute_result"
    }
   ],
   "source": [
    "df.gender.mode()[0]"
   ]
  },
  {
   "cell_type": "code",
   "execution_count": 204,
   "id": "88746fb0",
   "metadata": {},
   "outputs": [
    {
     "data": {
      "text/plain": [
       "male           303675\n",
       "female           2320\n",
       "undisclosed       363\n",
       "Name: gender, dtype: int64"
      ]
     },
     "execution_count": 204,
     "metadata": {},
     "output_type": "execute_result"
    }
   ],
   "source": [
    "df.gender.value_counts()"
   ]
  },
  {
   "cell_type": "code",
   "execution_count": 205,
   "id": "d9601108",
   "metadata": {
    "scrolled": false
   },
   "outputs": [
    {
     "data": {
      "text/plain": [
       "array([nan, 'not_interested', 'schedule', 'in_verification', 'pass',\n",
       "       'Received Guarantor Form', 'submitted', 'not_reachable', 'no_show',\n",
       "       'received_guarantor_form', 'fail', 'awaiting_vehicle_pickup',\n",
       "       'checked_in_for_test', 'Awaiting Vehicle Pickup', 'not_submitted',\n",
       "       'retrain', 'issued_guarantor_form'], dtype=object)"
      ]
     },
     "execution_count": 205,
     "metadata": {},
     "output_type": "execute_result"
    }
   ],
   "source": [
    "df.stage_status.unique()"
   ]
  },
  {
   "cell_type": "code",
   "execution_count": 206,
   "id": "eed2e88d",
   "metadata": {},
   "outputs": [
    {
     "data": {
      "text/plain": [
       "array([nan, 'not_interested', 'schedule', 'In Verification', 'pass',\n",
       "       'Received Guarantor Form', 'submitted', 'not_reachable', 'no_show',\n",
       "       'fail', 'Awaiting Vehicle Pickup', 'Checked In For Test',\n",
       "       'not_submitted', 'retrain', 'Issued Guarantor Form'], dtype=object)"
      ]
     },
     "execution_count": 206,
     "metadata": {},
     "output_type": "execute_result"
    }
   ],
   "source": [
    "df.stage_status.replace({'in_verification':'In Verification', 'received_guarantor_form':'Received Guarantor Form',\n",
    "                         'checked_in_for_test':'Checked In For Test', 'issued_guarantor_form':'Issued Guarantor Form',\n",
    "                        'awaiting_vehicle_pickup':'Awaiting Vehicle Pickup'}, inplace=True)\n",
    "df.stage_status.unique()"
   ]
  },
  {
   "cell_type": "code",
   "execution_count": 207,
   "id": "66234e39",
   "metadata": {
    "scrolled": true
   },
   "outputs": [
    {
     "data": {
      "text/plain": [
       "pass                       12108\n",
       "schedule                    9420\n",
       "Received Guarantor Form     7265\n",
       "not_interested              5478\n",
       "submitted                   3250\n",
       "In Verification             2326\n",
       "not_reachable               2033\n",
       "fail                        1916\n",
       "no_show                     1447\n",
       "Awaiting Vehicle Pickup      625\n",
       "not_submitted                303\n",
       "retrain                       13\n",
       "Checked In For Test            5\n",
       "Issued Guarantor Form          4\n",
       "Name: stage_status, dtype: int64"
      ]
     },
     "execution_count": 207,
     "metadata": {},
     "output_type": "execute_result"
    }
   ],
   "source": [
    "df.stage_status.value_counts()"
   ]
  },
  {
   "cell_type": "code",
   "execution_count": 208,
   "id": "da2a9a20",
   "metadata": {},
   "outputs": [
    {
     "data": {
      "text/plain": [
       "array(['Received Guarantor Form', 'Awaiting Vehicle Pickup',\n",
       "       'Checked In For Test', 'Issued Guarantor Form'], dtype=object)"
      ]
     },
     "execution_count": 208,
     "metadata": {},
     "output_type": "execute_result"
    }
   ],
   "source": [
    "#data leak\n",
    "df[df.stage_status == df.label].stage_status.unique()"
   ]
  },
  {
   "cell_type": "code",
   "execution_count": 209,
   "id": "73b0a56b",
   "metadata": {},
   "outputs": [
    {
     "data": {
      "text/plain": [
       "array(['Received Guarantor Form', 'Awaiting Vehicle Pickup',\n",
       "       'Checked In For Test', 'Issued Guarantor Form'], dtype=object)"
      ]
     },
     "execution_count": 209,
     "metadata": {},
     "output_type": "execute_result"
    }
   ],
   "source": [
    "#data leak\n",
    "df[df.stage_status == df.label].label.unique()"
   ]
  },
  {
   "cell_type": "code",
   "execution_count": 210,
   "id": "3305dea8",
   "metadata": {},
   "outputs": [
    {
     "data": {
      "text/html": [
       "<div>\n",
       "<style scoped>\n",
       "    .dataframe tbody tr th:only-of-type {\n",
       "        vertical-align: middle;\n",
       "    }\n",
       "\n",
       "    .dataframe tbody tr th {\n",
       "        vertical-align: top;\n",
       "    }\n",
       "\n",
       "    .dataframe thead th {\n",
       "        text-align: right;\n",
       "    }\n",
       "</style>\n",
       "<table border=\"1\" class=\"dataframe\">\n",
       "  <thead>\n",
       "    <tr style=\"text-align: right;\">\n",
       "      <th></th>\n",
       "      <th>subscriber_id</th>\n",
       "      <th>agent_id</th>\n",
       "      <th>entry_channel_id</th>\n",
       "      <th>stage_status</th>\n",
       "      <th>subscriber_age</th>\n",
       "      <th>gender</th>\n",
       "      <th>city</th>\n",
       "      <th>label</th>\n",
       "      <th>year</th>\n",
       "      <th>month</th>\n",
       "      <th>day</th>\n",
       "    </tr>\n",
       "  </thead>\n",
       "  <tbody>\n",
       "    <tr>\n",
       "      <th>0</th>\n",
       "      <td>ecc55e48-fc41-4d07-af5b-4538f1644337</td>\n",
       "      <td>e06b3324-a7a7-480d-bd1e-3b13ddd432a5</td>\n",
       "      <td>4</td>\n",
       "      <td>NaN</td>\n",
       "      <td>40.0</td>\n",
       "      <td>male</td>\n",
       "      <td>Ibadan</td>\n",
       "      <td>Issued Guarantor Form</td>\n",
       "      <td>2022</td>\n",
       "      <td>7</td>\n",
       "      <td>18</td>\n",
       "    </tr>\n",
       "    <tr>\n",
       "      <th>1</th>\n",
       "      <td>dd1fd326-030a-4538-b18d-4152febdd8f6</td>\n",
       "      <td>55b84aa7-3545-4e03-a9b4-b0ae08c15042</td>\n",
       "      <td>4</td>\n",
       "      <td>NaN</td>\n",
       "      <td>36.0</td>\n",
       "      <td>male</td>\n",
       "      <td>Abeokuta</td>\n",
       "      <td>Issued Guarantor Form</td>\n",
       "      <td>2022</td>\n",
       "      <td>8</td>\n",
       "      <td>5</td>\n",
       "    </tr>\n",
       "    <tr>\n",
       "      <th>2</th>\n",
       "      <td>8cfc6368-85fc-486e-b420-321e08fb781e</td>\n",
       "      <td>49c437b1-2abc-45b0-91cb-c5334172faf1</td>\n",
       "      <td>4</td>\n",
       "      <td>NaN</td>\n",
       "      <td>30.0</td>\n",
       "      <td>male</td>\n",
       "      <td>Ibadan</td>\n",
       "      <td>Top of the funnel</td>\n",
       "      <td>2021</td>\n",
       "      <td>8</td>\n",
       "      <td>13</td>\n",
       "    </tr>\n",
       "    <tr>\n",
       "      <th>3</th>\n",
       "      <td>2c0bbcfa-f19e-4f99-b812-10c07a84f119</td>\n",
       "      <td>07887ae3-2c35-49f0-95ec-dbf22719794f</td>\n",
       "      <td>4</td>\n",
       "      <td>NaN</td>\n",
       "      <td>45.0</td>\n",
       "      <td>male</td>\n",
       "      <td>Ibadan</td>\n",
       "      <td>Top of the funnel</td>\n",
       "      <td>2022</td>\n",
       "      <td>5</td>\n",
       "      <td>7</td>\n",
       "    </tr>\n",
       "    <tr>\n",
       "      <th>4</th>\n",
       "      <td>c7cab337-cdbd-41e7-9b65-108982e59c0c</td>\n",
       "      <td>49c437b1-2abc-45b0-91cb-c5334172faf1</td>\n",
       "      <td>4</td>\n",
       "      <td>NaN</td>\n",
       "      <td>30.0</td>\n",
       "      <td>male</td>\n",
       "      <td>Ibadan</td>\n",
       "      <td>Top of the funnel</td>\n",
       "      <td>2021</td>\n",
       "      <td>1</td>\n",
       "      <td>21</td>\n",
       "    </tr>\n",
       "    <tr>\n",
       "      <th>...</th>\n",
       "      <td>...</td>\n",
       "      <td>...</td>\n",
       "      <td>...</td>\n",
       "      <td>...</td>\n",
       "      <td>...</td>\n",
       "      <td>...</td>\n",
       "      <td>...</td>\n",
       "      <td>...</td>\n",
       "      <td>...</td>\n",
       "      <td>...</td>\n",
       "      <td>...</td>\n",
       "    </tr>\n",
       "    <tr>\n",
       "      <th>92072</th>\n",
       "      <td>cca0a3bb-f749-414f-b8c6-7219385fcd4b</td>\n",
       "      <td>d52b9e23-5308-4c85-9626-6f1b328caa72</td>\n",
       "      <td>4</td>\n",
       "      <td>NaN</td>\n",
       "      <td>30.0</td>\n",
       "      <td>male</td>\n",
       "      <td>Ibadan</td>\n",
       "      <td>NaN</td>\n",
       "      <td>2022</td>\n",
       "      <td>7</td>\n",
       "      <td>29</td>\n",
       "    </tr>\n",
       "    <tr>\n",
       "      <th>92073</th>\n",
       "      <td>f64718a1-64bf-4245-8c5d-29d494e6942f</td>\n",
       "      <td>8cfa8917-7703-442e-b44c-abd13d9df0ab</td>\n",
       "      <td>4</td>\n",
       "      <td>NaN</td>\n",
       "      <td>36.0</td>\n",
       "      <td>male</td>\n",
       "      <td>Oshogbo</td>\n",
       "      <td>NaN</td>\n",
       "      <td>2022</td>\n",
       "      <td>7</td>\n",
       "      <td>27</td>\n",
       "    </tr>\n",
       "    <tr>\n",
       "      <th>92074</th>\n",
       "      <td>4b12b1b3-f84b-442a-a70c-731ab0a47168</td>\n",
       "      <td>9b1fa68e-5584-4950-b6c4-a35a1ab88ff4</td>\n",
       "      <td>4</td>\n",
       "      <td>NaN</td>\n",
       "      <td>25.0</td>\n",
       "      <td>male</td>\n",
       "      <td>Oshogbo</td>\n",
       "      <td>NaN</td>\n",
       "      <td>2022</td>\n",
       "      <td>8</td>\n",
       "      <td>17</td>\n",
       "    </tr>\n",
       "    <tr>\n",
       "      <th>92076</th>\n",
       "      <td>2f05d8c8-4777-4342-9d1a-7fa8f418f85e</td>\n",
       "      <td>9b6b6411-25ad-487b-9e0b-d8d357d7f27e</td>\n",
       "      <td>4</td>\n",
       "      <td>NaN</td>\n",
       "      <td>31.0</td>\n",
       "      <td>male</td>\n",
       "      <td>Ibadan</td>\n",
       "      <td>NaN</td>\n",
       "      <td>2022</td>\n",
       "      <td>8</td>\n",
       "      <td>24</td>\n",
       "    </tr>\n",
       "    <tr>\n",
       "      <th>92077</th>\n",
       "      <td>74e291c2-3c5a-4a70-87f1-563a2e507ec6</td>\n",
       "      <td>c3c2585a-5684-4076-ae4b-957ef16b3d72</td>\n",
       "      <td>4</td>\n",
       "      <td>NaN</td>\n",
       "      <td>38.0</td>\n",
       "      <td>male</td>\n",
       "      <td>Ibadan</td>\n",
       "      <td>NaN</td>\n",
       "      <td>2021</td>\n",
       "      <td>6</td>\n",
       "      <td>1</td>\n",
       "    </tr>\n",
       "  </tbody>\n",
       "</table>\n",
       "<p>260732 rows × 11 columns</p>\n",
       "</div>"
      ],
      "text/plain": [
       "                              subscriber_id  \\\n",
       "0      ecc55e48-fc41-4d07-af5b-4538f1644337   \n",
       "1      dd1fd326-030a-4538-b18d-4152febdd8f6   \n",
       "2      8cfc6368-85fc-486e-b420-321e08fb781e   \n",
       "3      2c0bbcfa-f19e-4f99-b812-10c07a84f119   \n",
       "4      c7cab337-cdbd-41e7-9b65-108982e59c0c   \n",
       "...                                     ...   \n",
       "92072  cca0a3bb-f749-414f-b8c6-7219385fcd4b   \n",
       "92073  f64718a1-64bf-4245-8c5d-29d494e6942f   \n",
       "92074  4b12b1b3-f84b-442a-a70c-731ab0a47168   \n",
       "92076  2f05d8c8-4777-4342-9d1a-7fa8f418f85e   \n",
       "92077  74e291c2-3c5a-4a70-87f1-563a2e507ec6   \n",
       "\n",
       "                                   agent_id  entry_channel_id stage_status  \\\n",
       "0      e06b3324-a7a7-480d-bd1e-3b13ddd432a5                 4          NaN   \n",
       "1      55b84aa7-3545-4e03-a9b4-b0ae08c15042                 4          NaN   \n",
       "2      49c437b1-2abc-45b0-91cb-c5334172faf1                 4          NaN   \n",
       "3      07887ae3-2c35-49f0-95ec-dbf22719794f                 4          NaN   \n",
       "4      49c437b1-2abc-45b0-91cb-c5334172faf1                 4          NaN   \n",
       "...                                     ...               ...          ...   \n",
       "92072  d52b9e23-5308-4c85-9626-6f1b328caa72                 4          NaN   \n",
       "92073  8cfa8917-7703-442e-b44c-abd13d9df0ab                 4          NaN   \n",
       "92074  9b1fa68e-5584-4950-b6c4-a35a1ab88ff4                 4          NaN   \n",
       "92076  9b6b6411-25ad-487b-9e0b-d8d357d7f27e                 4          NaN   \n",
       "92077  c3c2585a-5684-4076-ae4b-957ef16b3d72                 4          NaN   \n",
       "\n",
       "       subscriber_age gender      city                  label  year  month  \\\n",
       "0                40.0   male    Ibadan  Issued Guarantor Form  2022      7   \n",
       "1                36.0   male  Abeokuta  Issued Guarantor Form  2022      8   \n",
       "2                30.0   male    Ibadan      Top of the funnel  2021      8   \n",
       "3                45.0   male    Ibadan      Top of the funnel  2022      5   \n",
       "4                30.0   male    Ibadan      Top of the funnel  2021      1   \n",
       "...               ...    ...       ...                    ...   ...    ...   \n",
       "92072            30.0   male    Ibadan                    NaN  2022      7   \n",
       "92073            36.0   male   Oshogbo                    NaN  2022      7   \n",
       "92074            25.0   male   Oshogbo                    NaN  2022      8   \n",
       "92076            31.0   male    Ibadan                    NaN  2022      8   \n",
       "92077            38.0   male    Ibadan                    NaN  2021      6   \n",
       "\n",
       "       day  \n",
       "0       18  \n",
       "1        5  \n",
       "2       13  \n",
       "3        7  \n",
       "4       21  \n",
       "...    ...  \n",
       "92072   29  \n",
       "92073   27  \n",
       "92074   17  \n",
       "92076   24  \n",
       "92077    1  \n",
       "\n",
       "[260732 rows x 11 columns]"
      ]
     },
     "execution_count": 210,
     "metadata": {},
     "output_type": "execute_result"
    }
   ],
   "source": [
    "df[df.stage_status.isna()]"
   ]
  },
  {
   "cell_type": "code",
   "execution_count": 211,
   "id": "fb42c552",
   "metadata": {},
   "outputs": [
    {
     "data": {
      "text/plain": [
       "0.8494974342266026"
      ]
     },
     "execution_count": 211,
     "metadata": {},
     "output_type": "execute_result"
    }
   ],
   "source": [
    "#mass missing\n",
    "df.stage_status.isna().sum()/len(df)"
   ]
  },
  {
   "cell_type": "code",
   "execution_count": 212,
   "id": "4a4dbd5a",
   "metadata": {},
   "outputs": [
    {
     "data": {
      "text/plain": [
       "array(['Ibadan', 'Abeokuta', 'Oshogbo', 'Akure', 'Ado Ekiti', 'Lagos',\n",
       "       'Gbamugbamu', 'Accra', nan, 'Kano', 'Bonny Island', 'GbamuGbamu',\n",
       "       'ibadan'], dtype=object)"
      ]
     },
     "execution_count": 212,
     "metadata": {},
     "output_type": "execute_result"
    }
   ],
   "source": [
    "df.city.unique()"
   ]
  },
  {
   "cell_type": "code",
   "execution_count": 213,
   "id": "2c3ab021",
   "metadata": {},
   "outputs": [
    {
     "data": {
      "text/plain": [
       "Ibadan          158208\n",
       "Oshogbo          63354\n",
       "Akure            56731\n",
       "Abeokuta         15058\n",
       "Ado Ekiti         6778\n",
       "Lagos             6097\n",
       "Accra              268\n",
       "Gbamugbamu         106\n",
       "GbamuGbamu          19\n",
       "Bonny Island         8\n",
       "Kano                 2\n",
       "ibadan               1\n",
       "Name: city, dtype: int64"
      ]
     },
     "execution_count": 213,
     "metadata": {},
     "output_type": "execute_result"
    }
   ],
   "source": [
    "df.city.value_counts()"
   ]
  },
  {
   "cell_type": "code",
   "execution_count": 214,
   "id": "b04983e2",
   "metadata": {},
   "outputs": [],
   "source": [
    "df.city = df.city.replace({'ibadan':'Ibadan', 'GbamuGbamu':'Gbamugbamu'})"
   ]
  },
  {
   "cell_type": "code",
   "execution_count": 215,
   "id": "46a66c0d",
   "metadata": {},
   "outputs": [
    {
     "data": {
      "text/plain": [
       "Ibadan          158209\n",
       "Oshogbo          63354\n",
       "Akure            56731\n",
       "Abeokuta         15058\n",
       "Ado Ekiti         6778\n",
       "Lagos             6097\n",
       "Accra              268\n",
       "Gbamugbamu         125\n",
       "Bonny Island         8\n",
       "Kano                 2\n",
       "Name: city, dtype: int64"
      ]
     },
     "execution_count": 215,
     "metadata": {},
     "output_type": "execute_result"
    }
   ],
   "source": [
    "df.city.value_counts()"
   ]
  },
  {
   "cell_type": "code",
   "execution_count": 216,
   "id": "f094bd70",
   "metadata": {
    "scrolled": true
   },
   "outputs": [
    {
     "data": {
      "text/plain": [
       "Top of the funnel          51740\n",
       "Test Scheduled             45768\n",
       "Checked In For Test        20369\n",
       "Issued Guarantor Form      13270\n",
       "Awaiting Vehicle Pickup    12343\n",
       "Tested                     10462\n",
       "Activated                   8284\n",
       "Received Guarantor Form     6695\n",
       "In Verification             5387\n",
       "Onboarding                  5287\n",
       "Awaiting Activation         3129\n",
       "Name: label, dtype: int64"
      ]
     },
     "execution_count": 216,
     "metadata": {},
     "output_type": "execute_result"
    }
   ],
   "source": [
    "df[df.stage_status.isna()].label.value_counts()"
   ]
  },
  {
   "cell_type": "code",
   "execution_count": 217,
   "id": "b2a4a81a",
   "metadata": {},
   "outputs": [
    {
     "data": {
      "text/plain": [
       "35.0    52716\n",
       "30.0    49349\n",
       "32.0    26651\n",
       "40.0    18527\n",
       "36.0    14073\n",
       "        ...  \n",
       "90.0        9\n",
       "0.0         9\n",
       "84.0        5\n",
       "76.0        5\n",
       "10.0        5\n",
       "Name: subscriber_age, Length: 66, dtype: int64"
      ]
     },
     "execution_count": 217,
     "metadata": {},
     "output_type": "execute_result"
    }
   ],
   "source": [
    "df.subscriber_age.value_counts()[:10]"
   ]
  },
  {
   "cell_type": "code",
   "execution_count": 218,
   "id": "bc23c034",
   "metadata": {},
   "outputs": [
    {
     "data": {
      "text/plain": [
       "array([ 40.,  36.,  30.,  45.,  28.,  32.,  35.,  34.,  39.,  27., 100.,\n",
       "        22.,  48.,  38.,  43.,  42.,  21.,  47.,  20.,  29.,  50.,  37.,\n",
       "        33.,  46.,  25.,  44.,  26.,  51.,  58.,  24.,  31.,  41.,  23.,\n",
       "        52.,  53.,  55.,   2.,  62.,  60.,  nan,  65.,  18.,  54.,  57.,\n",
       "        49.,  63.,  69.,   0.,  67.,  56.,  19.,  79.,  68.,  72.,   3.,\n",
       "        59.,  66.,  64.,  61.,  90.,  84.,  70.,  71.,   4.,  75.,   6.,\n",
       "         5.,  80.,  81.,  76.,  78.,  10.,  15.,  16., 271.,  88.,   9.,\n",
       "        91.])"
      ]
     },
     "execution_count": 218,
     "metadata": {},
     "output_type": "execute_result"
    }
   ],
   "source": [
    "df.subscriber_age.unique()"
   ]
  },
  {
   "cell_type": "code",
   "execution_count": 219,
   "id": "95ddd003",
   "metadata": {},
   "outputs": [
    {
     "data": {
      "text/plain": [
       "34.72781891165669"
      ]
     },
     "execution_count": 219,
     "metadata": {},
     "output_type": "execute_result"
    }
   ],
   "source": [
    "age_mean = df.subscriber_age.mean()\n",
    "age_mean"
   ]
  },
  {
   "cell_type": "code",
   "execution_count": 220,
   "id": "7b5caaa7",
   "metadata": {},
   "outputs": [],
   "source": [
    "#filling with max\n",
    "cat_missing = ['gender', 'agent_id', 'city']\n",
    "for i in cat_missing:\n",
    "    max_ = df[i].mode()[0]\n",
    "    df[i].fillna(max_, inplace=True)\n",
    "    \n",
    "df.stage_status.fillna('missing', inplace=True)\n",
    "\n",
    "df.subscriber_age = df.subscriber_age.fillna(age_mean)"
   ]
  },
  {
   "cell_type": "code",
   "execution_count": 221,
   "id": "93a4ffb4",
   "metadata": {},
   "outputs": [
    {
     "data": {
      "text/plain": [
       "subscriber_id           0\n",
       "agent_id                0\n",
       "entry_channel_id        0\n",
       "stage_status            0\n",
       "subscriber_age          0\n",
       "gender                  0\n",
       "city                    0\n",
       "label               92078\n",
       "year                    0\n",
       "month                   0\n",
       "day                     0\n",
       "dtype: int64"
      ]
     },
     "execution_count": 221,
     "metadata": {},
     "output_type": "execute_result"
    }
   ],
   "source": [
    "df.isna().sum()"
   ]
  },
  {
   "cell_type": "code",
   "execution_count": 222,
   "id": "2d76d05e",
   "metadata": {},
   "outputs": [
    {
     "data": {
      "text/html": [
       "<div>\n",
       "<style scoped>\n",
       "    .dataframe tbody tr th:only-of-type {\n",
       "        vertical-align: middle;\n",
       "    }\n",
       "\n",
       "    .dataframe tbody tr th {\n",
       "        vertical-align: top;\n",
       "    }\n",
       "\n",
       "    .dataframe thead th {\n",
       "        text-align: right;\n",
       "    }\n",
       "</style>\n",
       "<table border=\"1\" class=\"dataframe\">\n",
       "  <thead>\n",
       "    <tr style=\"text-align: right;\">\n",
       "      <th></th>\n",
       "      <th>subscriber_id</th>\n",
       "      <th>agent_id</th>\n",
       "      <th>entry_channel_id</th>\n",
       "      <th>stage_status</th>\n",
       "      <th>subscriber_age</th>\n",
       "      <th>gender</th>\n",
       "      <th>city</th>\n",
       "      <th>label</th>\n",
       "      <th>year</th>\n",
       "      <th>month</th>\n",
       "      <th>day</th>\n",
       "    </tr>\n",
       "  </thead>\n",
       "  <tbody>\n",
       "    <tr>\n",
       "      <th>0</th>\n",
       "      <td>ecc55e48-fc41-4d07-af5b-4538f1644337</td>\n",
       "      <td>e06b3324-a7a7-480d-bd1e-3b13ddd432a5</td>\n",
       "      <td>4</td>\n",
       "      <td>missing</td>\n",
       "      <td>40.0</td>\n",
       "      <td>male</td>\n",
       "      <td>Ibadan</td>\n",
       "      <td>Issued Guarantor Form</td>\n",
       "      <td>2022</td>\n",
       "      <td>7</td>\n",
       "      <td>18</td>\n",
       "    </tr>\n",
       "    <tr>\n",
       "      <th>1</th>\n",
       "      <td>dd1fd326-030a-4538-b18d-4152febdd8f6</td>\n",
       "      <td>55b84aa7-3545-4e03-a9b4-b0ae08c15042</td>\n",
       "      <td>4</td>\n",
       "      <td>missing</td>\n",
       "      <td>36.0</td>\n",
       "      <td>male</td>\n",
       "      <td>Abeokuta</td>\n",
       "      <td>Issued Guarantor Form</td>\n",
       "      <td>2022</td>\n",
       "      <td>8</td>\n",
       "      <td>5</td>\n",
       "    </tr>\n",
       "    <tr>\n",
       "      <th>2</th>\n",
       "      <td>8cfc6368-85fc-486e-b420-321e08fb781e</td>\n",
       "      <td>49c437b1-2abc-45b0-91cb-c5334172faf1</td>\n",
       "      <td>4</td>\n",
       "      <td>missing</td>\n",
       "      <td>30.0</td>\n",
       "      <td>male</td>\n",
       "      <td>Ibadan</td>\n",
       "      <td>Top of the funnel</td>\n",
       "      <td>2021</td>\n",
       "      <td>8</td>\n",
       "      <td>13</td>\n",
       "    </tr>\n",
       "    <tr>\n",
       "      <th>3</th>\n",
       "      <td>2c0bbcfa-f19e-4f99-b812-10c07a84f119</td>\n",
       "      <td>07887ae3-2c35-49f0-95ec-dbf22719794f</td>\n",
       "      <td>4</td>\n",
       "      <td>missing</td>\n",
       "      <td>45.0</td>\n",
       "      <td>male</td>\n",
       "      <td>Ibadan</td>\n",
       "      <td>Top of the funnel</td>\n",
       "      <td>2022</td>\n",
       "      <td>5</td>\n",
       "      <td>7</td>\n",
       "    </tr>\n",
       "    <tr>\n",
       "      <th>4</th>\n",
       "      <td>c7cab337-cdbd-41e7-9b65-108982e59c0c</td>\n",
       "      <td>49c437b1-2abc-45b0-91cb-c5334172faf1</td>\n",
       "      <td>4</td>\n",
       "      <td>missing</td>\n",
       "      <td>30.0</td>\n",
       "      <td>male</td>\n",
       "      <td>Ibadan</td>\n",
       "      <td>Top of the funnel</td>\n",
       "      <td>2021</td>\n",
       "      <td>1</td>\n",
       "      <td>21</td>\n",
       "    </tr>\n",
       "  </tbody>\n",
       "</table>\n",
       "</div>"
      ],
      "text/plain": [
       "                          subscriber_id                              agent_id  \\\n",
       "0  ecc55e48-fc41-4d07-af5b-4538f1644337  e06b3324-a7a7-480d-bd1e-3b13ddd432a5   \n",
       "1  dd1fd326-030a-4538-b18d-4152febdd8f6  55b84aa7-3545-4e03-a9b4-b0ae08c15042   \n",
       "2  8cfc6368-85fc-486e-b420-321e08fb781e  49c437b1-2abc-45b0-91cb-c5334172faf1   \n",
       "3  2c0bbcfa-f19e-4f99-b812-10c07a84f119  07887ae3-2c35-49f0-95ec-dbf22719794f   \n",
       "4  c7cab337-cdbd-41e7-9b65-108982e59c0c  49c437b1-2abc-45b0-91cb-c5334172faf1   \n",
       "\n",
       "   entry_channel_id stage_status  subscriber_age gender      city  \\\n",
       "0                 4      missing            40.0   male    Ibadan   \n",
       "1                 4      missing            36.0   male  Abeokuta   \n",
       "2                 4      missing            30.0   male    Ibadan   \n",
       "3                 4      missing            45.0   male    Ibadan   \n",
       "4                 4      missing            30.0   male    Ibadan   \n",
       "\n",
       "                   label  year  month  day  \n",
       "0  Issued Guarantor Form  2022      7   18  \n",
       "1  Issued Guarantor Form  2022      8    5  \n",
       "2      Top of the funnel  2021      8   13  \n",
       "3      Top of the funnel  2022      5    7  \n",
       "4      Top of the funnel  2021      1   21  "
      ]
     },
     "execution_count": 222,
     "metadata": {},
     "output_type": "execute_result"
    }
   ],
   "source": [
    "df.head()"
   ]
  },
  {
   "cell_type": "code",
   "execution_count": 223,
   "id": "504d1852",
   "metadata": {},
   "outputs": [],
   "source": [
    "encode = ['subscriber_id', 'agent_id', 'gender', 'city']\n",
    "le = LabelEncoder()\n",
    "\n",
    "for i in encode:\n",
    "    df[i] = df[i].apply(lambda x: str(x))\n",
    "    le.fit(df[i])\n",
    "    df[i] = le.transform(df[i])"
   ]
  },
  {
   "cell_type": "code",
   "execution_count": 224,
   "id": "4b26b39d",
   "metadata": {},
   "outputs": [
    {
     "data": {
      "text/html": [
       "<div>\n",
       "<style scoped>\n",
       "    .dataframe tbody tr th:only-of-type {\n",
       "        vertical-align: middle;\n",
       "    }\n",
       "\n",
       "    .dataframe tbody tr th {\n",
       "        vertical-align: top;\n",
       "    }\n",
       "\n",
       "    .dataframe thead th {\n",
       "        text-align: right;\n",
       "    }\n",
       "</style>\n",
       "<table border=\"1\" class=\"dataframe\">\n",
       "  <thead>\n",
       "    <tr style=\"text-align: right;\">\n",
       "      <th></th>\n",
       "      <th>subscriber_id</th>\n",
       "      <th>agent_id</th>\n",
       "      <th>entry_channel_id</th>\n",
       "      <th>stage_status</th>\n",
       "      <th>subscriber_age</th>\n",
       "      <th>gender</th>\n",
       "      <th>city</th>\n",
       "      <th>label</th>\n",
       "      <th>year</th>\n",
       "      <th>month</th>\n",
       "      <th>day</th>\n",
       "    </tr>\n",
       "  </thead>\n",
       "  <tbody>\n",
       "    <tr>\n",
       "      <th>0</th>\n",
       "      <td>81824</td>\n",
       "      <td>372</td>\n",
       "      <td>4</td>\n",
       "      <td>missing</td>\n",
       "      <td>40.0</td>\n",
       "      <td>1</td>\n",
       "      <td>6</td>\n",
       "      <td>Issued Guarantor Form</td>\n",
       "      <td>2022</td>\n",
       "      <td>7</td>\n",
       "      <td>18</td>\n",
       "    </tr>\n",
       "    <tr>\n",
       "      <th>1</th>\n",
       "      <td>76356</td>\n",
       "      <td>136</td>\n",
       "      <td>4</td>\n",
       "      <td>missing</td>\n",
       "      <td>36.0</td>\n",
       "      <td>1</td>\n",
       "      <td>0</td>\n",
       "      <td>Issued Guarantor Form</td>\n",
       "      <td>2022</td>\n",
       "      <td>8</td>\n",
       "      <td>5</td>\n",
       "    </tr>\n",
       "    <tr>\n",
       "      <th>2</th>\n",
       "      <td>48773</td>\n",
       "      <td>125</td>\n",
       "      <td>4</td>\n",
       "      <td>missing</td>\n",
       "      <td>30.0</td>\n",
       "      <td>1</td>\n",
       "      <td>6</td>\n",
       "      <td>Top of the funnel</td>\n",
       "      <td>2021</td>\n",
       "      <td>8</td>\n",
       "      <td>13</td>\n",
       "    </tr>\n",
       "    <tr>\n",
       "      <th>3</th>\n",
       "      <td>15197</td>\n",
       "      <td>16</td>\n",
       "      <td>4</td>\n",
       "      <td>missing</td>\n",
       "      <td>45.0</td>\n",
       "      <td>1</td>\n",
       "      <td>6</td>\n",
       "      <td>Top of the funnel</td>\n",
       "      <td>2022</td>\n",
       "      <td>5</td>\n",
       "      <td>7</td>\n",
       "    </tr>\n",
       "    <tr>\n",
       "      <th>4</th>\n",
       "      <td>69092</td>\n",
       "      <td>125</td>\n",
       "      <td>4</td>\n",
       "      <td>missing</td>\n",
       "      <td>30.0</td>\n",
       "      <td>1</td>\n",
       "      <td>6</td>\n",
       "      <td>Top of the funnel</td>\n",
       "      <td>2021</td>\n",
       "      <td>1</td>\n",
       "      <td>21</td>\n",
       "    </tr>\n",
       "  </tbody>\n",
       "</table>\n",
       "</div>"
      ],
      "text/plain": [
       "   subscriber_id  agent_id  entry_channel_id stage_status  subscriber_age  \\\n",
       "0          81824       372                 4      missing            40.0   \n",
       "1          76356       136                 4      missing            36.0   \n",
       "2          48773       125                 4      missing            30.0   \n",
       "3          15197        16                 4      missing            45.0   \n",
       "4          69092       125                 4      missing            30.0   \n",
       "\n",
       "   gender  city                  label  year  month  day  \n",
       "0       1     6  Issued Guarantor Form  2022      7   18  \n",
       "1       1     0  Issued Guarantor Form  2022      8    5  \n",
       "2       1     6      Top of the funnel  2021      8   13  \n",
       "3       1     6      Top of the funnel  2022      5    7  \n",
       "4       1     6      Top of the funnel  2021      1   21  "
      ]
     },
     "execution_count": 224,
     "metadata": {},
     "output_type": "execute_result"
    }
   ],
   "source": [
    "df.head()"
   ]
  },
  {
   "cell_type": "code",
   "execution_count": 225,
   "id": "adb5399e",
   "metadata": {},
   "outputs": [
    {
     "data": {
      "text/plain": [
       "125    23976\n",
       "290    15366\n",
       "78      8755\n",
       "417     8409\n",
       "144     8142\n",
       "       ...  \n",
       "204        2\n",
       "335        1\n",
       "155        1\n",
       "246        1\n",
       "177        1\n",
       "Name: agent_id, Length: 425, dtype: int64"
      ]
     },
     "execution_count": 225,
     "metadata": {},
     "output_type": "execute_result"
    }
   ],
   "source": [
    "df.agent_id.value_counts()"
   ]
  },
  {
   "cell_type": "code",
   "execution_count": 226,
   "id": "2d949afd",
   "metadata": {},
   "outputs": [
    {
     "data": {
      "text/plain": [
       "(92078, 13)"
      ]
     },
     "execution_count": 226,
     "metadata": {},
     "output_type": "execute_result"
    }
   ],
   "source": [
    "sub.shape"
   ]
  },
  {
   "cell_type": "code",
   "execution_count": 227,
   "id": "269ccb46",
   "metadata": {},
   "outputs": [
    {
     "data": {
      "text/plain": [
       "12"
      ]
     },
     "execution_count": 227,
     "metadata": {},
     "output_type": "execute_result"
    }
   ],
   "source": [
    "df.label.nunique()"
   ]
  },
  {
   "cell_type": "code",
   "execution_count": 228,
   "id": "33aa6337",
   "metadata": {},
   "outputs": [
    {
     "data": {
      "text/plain": [
       "Index(['ID', 'Activated', 'Awaiting Activation', 'Awaiting Vehicle Pickup',\n",
       "       'Backlog', 'Checked In For Test', 'In Verification',\n",
       "       'Issued Guarantor Form', 'Onboarding', 'Received Guarantor Form',\n",
       "       'Test Scheduled', 'Tested', 'Top of the funnel'],\n",
       "      dtype='object')"
      ]
     },
     "execution_count": 228,
     "metadata": {},
     "output_type": "execute_result"
    }
   ],
   "source": [
    "sub.columns"
   ]
  },
  {
   "cell_type": "code",
   "execution_count": 229,
   "id": "808460c5",
   "metadata": {},
   "outputs": [
    {
     "data": {
      "text/plain": [
       "array(['Issued Guarantor Form', 'Top of the funnel', 'Test Scheduled',\n",
       "       'Received Guarantor Form', 'Awaiting Activation',\n",
       "       'Awaiting Vehicle Pickup', 'Onboarding', 'Activated', 'Tested',\n",
       "       'Checked In For Test', 'In Verification', 'Backlog', nan],\n",
       "      dtype=object)"
      ]
     },
     "execution_count": 229,
     "metadata": {},
     "output_type": "execute_result"
    }
   ],
   "source": [
    "df.label.unique()"
   ]
  },
  {
   "cell_type": "code",
   "execution_count": 230,
   "id": "e34eca4c",
   "metadata": {},
   "outputs": [
    {
     "data": {
      "text/plain": [
       "array(['missing', 'not_interested', 'schedule', 'In Verification', 'pass',\n",
       "       'Received Guarantor Form', 'submitted', 'not_reachable', 'no_show',\n",
       "       'fail', 'Awaiting Vehicle Pickup', 'Checked In For Test',\n",
       "       'not_submitted', 'retrain', 'Issued Guarantor Form'], dtype=object)"
      ]
     },
     "execution_count": 230,
     "metadata": {},
     "output_type": "execute_result"
    }
   ],
   "source": [
    "df.stage_status.unique()"
   ]
  },
  {
   "cell_type": "code",
   "execution_count": 231,
   "id": "a4c667cf",
   "metadata": {},
   "outputs": [],
   "source": [
    "#manual encoding\n",
    "stage_label = {'missing':0, 'not_interested':13, 'schedule':14, 'In Verification':6, 'pass':1,\n",
    "       'Received Guarantor Form':9, 'submitted':15, 'not_reachable':16, 'no_show':17,\n",
    "       'fail':18, 'Awaiting Vehicle Pickup':3, 'Checked In For Test':5,\n",
    "       'not_submitted':-1, 'retrain':-2, 'Issued Guarantor Form':7}\n",
    "\n",
    "df.stage_status = df.stage_status.map(stage_label)"
   ]
  },
  {
   "cell_type": "code",
   "execution_count": 232,
   "id": "3ce53484",
   "metadata": {},
   "outputs": [],
   "source": [
    "# #backlog is only 1, so i chabged it to Awaiting activation\n",
    "\n",
    "# #manual encoding\n",
    "# to_label = {'Activated':1, 'Awaiting Activation':2, 'Awaiting Vehicle Pickup':3,\n",
    "#        'Backlog':4, 'Checked In For Test':5, 'In Verification':6,\n",
    "#        'Issued Guarantor Form':7, 'Onboarding':8, 'Received Guarantor Form':9,\n",
    "#        'Test Scheduled':10, 'Tested':11, 'Top of the funnel':0}\n",
    "\n",
    "# df.label = df.label.map(to_label)"
   ]
  },
  {
   "cell_type": "code",
   "execution_count": 233,
   "id": "c56d04f6",
   "metadata": {
    "scrolled": true
   },
   "outputs": [
    {
     "data": {
      "text/plain": [
       "Top of the funnel          61664\n",
       "Test Scheduled             51211\n",
       "Checked In For Test        21146\n",
       "Issued Guarantor Form      15810\n",
       "Received Guarantor Form    14223\n",
       "Tested                     14091\n",
       "Awaiting Vehicle Pickup    12786\n",
       "Activated                   8284\n",
       "Onboarding                  6930\n",
       "In Verification             5571\n",
       "Awaiting Activation         3130\n",
       "Backlog                        1\n",
       "Name: label, dtype: int64"
      ]
     },
     "execution_count": 233,
     "metadata": {},
     "output_type": "execute_result"
    }
   ],
   "source": [
    "df.label.value_counts()"
   ]
  },
  {
   "cell_type": "code",
   "execution_count": 234,
   "id": "364db980",
   "metadata": {},
   "outputs": [
    {
     "data": {
      "text/html": [
       "<div>\n",
       "<style scoped>\n",
       "    .dataframe tbody tr th:only-of-type {\n",
       "        vertical-align: middle;\n",
       "    }\n",
       "\n",
       "    .dataframe tbody tr th {\n",
       "        vertical-align: top;\n",
       "    }\n",
       "\n",
       "    .dataframe thead th {\n",
       "        text-align: right;\n",
       "    }\n",
       "</style>\n",
       "<table border=\"1\" class=\"dataframe\">\n",
       "  <thead>\n",
       "    <tr style=\"text-align: right;\">\n",
       "      <th></th>\n",
       "      <th>subscriber_id</th>\n",
       "      <th>agent_id</th>\n",
       "      <th>entry_channel_id</th>\n",
       "      <th>stage_status</th>\n",
       "      <th>subscriber_age</th>\n",
       "      <th>gender</th>\n",
       "      <th>city</th>\n",
       "      <th>label</th>\n",
       "      <th>year</th>\n",
       "      <th>month</th>\n",
       "      <th>day</th>\n",
       "    </tr>\n",
       "  </thead>\n",
       "  <tbody>\n",
       "    <tr>\n",
       "      <th>0</th>\n",
       "      <td>81824</td>\n",
       "      <td>372</td>\n",
       "      <td>4</td>\n",
       "      <td>0</td>\n",
       "      <td>40.0</td>\n",
       "      <td>1</td>\n",
       "      <td>6</td>\n",
       "      <td>Issued Guarantor Form</td>\n",
       "      <td>2022</td>\n",
       "      <td>7</td>\n",
       "      <td>18</td>\n",
       "    </tr>\n",
       "    <tr>\n",
       "      <th>1</th>\n",
       "      <td>76356</td>\n",
       "      <td>136</td>\n",
       "      <td>4</td>\n",
       "      <td>0</td>\n",
       "      <td>36.0</td>\n",
       "      <td>1</td>\n",
       "      <td>0</td>\n",
       "      <td>Issued Guarantor Form</td>\n",
       "      <td>2022</td>\n",
       "      <td>8</td>\n",
       "      <td>5</td>\n",
       "    </tr>\n",
       "    <tr>\n",
       "      <th>2</th>\n",
       "      <td>48773</td>\n",
       "      <td>125</td>\n",
       "      <td>4</td>\n",
       "      <td>0</td>\n",
       "      <td>30.0</td>\n",
       "      <td>1</td>\n",
       "      <td>6</td>\n",
       "      <td>Top of the funnel</td>\n",
       "      <td>2021</td>\n",
       "      <td>8</td>\n",
       "      <td>13</td>\n",
       "    </tr>\n",
       "    <tr>\n",
       "      <th>3</th>\n",
       "      <td>15197</td>\n",
       "      <td>16</td>\n",
       "      <td>4</td>\n",
       "      <td>0</td>\n",
       "      <td>45.0</td>\n",
       "      <td>1</td>\n",
       "      <td>6</td>\n",
       "      <td>Top of the funnel</td>\n",
       "      <td>2022</td>\n",
       "      <td>5</td>\n",
       "      <td>7</td>\n",
       "    </tr>\n",
       "    <tr>\n",
       "      <th>4</th>\n",
       "      <td>69092</td>\n",
       "      <td>125</td>\n",
       "      <td>4</td>\n",
       "      <td>0</td>\n",
       "      <td>30.0</td>\n",
       "      <td>1</td>\n",
       "      <td>6</td>\n",
       "      <td>Top of the funnel</td>\n",
       "      <td>2021</td>\n",
       "      <td>1</td>\n",
       "      <td>21</td>\n",
       "    </tr>\n",
       "  </tbody>\n",
       "</table>\n",
       "</div>"
      ],
      "text/plain": [
       "   subscriber_id  agent_id  entry_channel_id  stage_status  subscriber_age  \\\n",
       "0          81824       372                 4             0            40.0   \n",
       "1          76356       136                 4             0            36.0   \n",
       "2          48773       125                 4             0            30.0   \n",
       "3          15197        16                 4             0            45.0   \n",
       "4          69092       125                 4             0            30.0   \n",
       "\n",
       "   gender  city                  label  year  month  day  \n",
       "0       1     6  Issued Guarantor Form  2022      7   18  \n",
       "1       1     0  Issued Guarantor Form  2022      8    5  \n",
       "2       1     6      Top of the funnel  2021      8   13  \n",
       "3       1     6      Top of the funnel  2022      5    7  \n",
       "4       1     6      Top of the funnel  2021      1   21  "
      ]
     },
     "execution_count": 234,
     "metadata": {},
     "output_type": "execute_result"
    }
   ],
   "source": [
    "df.head()"
   ]
  },
  {
   "cell_type": "code",
   "execution_count": 235,
   "id": "3d2bb2b1",
   "metadata": {},
   "outputs": [],
   "source": [
    "#train with this..then come back to using one hot encoding for stage_status and entry_channel"
   ]
  },
  {
   "cell_type": "code",
   "execution_count": 236,
   "id": "f320702a",
   "metadata": {},
   "outputs": [],
   "source": [
    "train = df[:split]\n",
    "test = df[split:]\n",
    "# test.drop('label', axis=1, inplace=True)\n",
    "# data.reset_index(drop=True, inplace=True)"
   ]
  },
  {
   "cell_type": "code",
   "execution_count": 139,
   "id": "2651931d",
   "metadata": {},
   "outputs": [],
   "source": [
    "# train.label = train.label.astype(int)"
   ]
  },
  {
   "cell_type": "code",
   "execution_count": 237,
   "id": "68ad9e1f",
   "metadata": {},
   "outputs": [],
   "source": [
    "test = test.drop('label', axis=1)"
   ]
  },
  {
   "cell_type": "code",
   "execution_count": 238,
   "id": "771944b9",
   "metadata": {
    "scrolled": true
   },
   "outputs": [
    {
     "data": {
      "text/html": [
       "<div>\n",
       "<style scoped>\n",
       "    .dataframe tbody tr th:only-of-type {\n",
       "        vertical-align: middle;\n",
       "    }\n",
       "\n",
       "    .dataframe tbody tr th {\n",
       "        vertical-align: top;\n",
       "    }\n",
       "\n",
       "    .dataframe thead th {\n",
       "        text-align: right;\n",
       "    }\n",
       "</style>\n",
       "<table border=\"1\" class=\"dataframe\">\n",
       "  <thead>\n",
       "    <tr style=\"text-align: right;\">\n",
       "      <th></th>\n",
       "      <th>subscriber_id</th>\n",
       "      <th>agent_id</th>\n",
       "      <th>entry_channel_id</th>\n",
       "      <th>stage_status</th>\n",
       "      <th>subscriber_age</th>\n",
       "      <th>gender</th>\n",
       "      <th>city</th>\n",
       "      <th>label</th>\n",
       "      <th>year</th>\n",
       "      <th>month</th>\n",
       "      <th>day</th>\n",
       "    </tr>\n",
       "  </thead>\n",
       "  <tbody>\n",
       "    <tr>\n",
       "      <th>0</th>\n",
       "      <td>81824</td>\n",
       "      <td>372</td>\n",
       "      <td>4</td>\n",
       "      <td>0</td>\n",
       "      <td>40.0</td>\n",
       "      <td>1</td>\n",
       "      <td>6</td>\n",
       "      <td>Issued Guarantor Form</td>\n",
       "      <td>2022</td>\n",
       "      <td>7</td>\n",
       "      <td>18</td>\n",
       "    </tr>\n",
       "    <tr>\n",
       "      <th>1</th>\n",
       "      <td>76356</td>\n",
       "      <td>136</td>\n",
       "      <td>4</td>\n",
       "      <td>0</td>\n",
       "      <td>36.0</td>\n",
       "      <td>1</td>\n",
       "      <td>0</td>\n",
       "      <td>Issued Guarantor Form</td>\n",
       "      <td>2022</td>\n",
       "      <td>8</td>\n",
       "      <td>5</td>\n",
       "    </tr>\n",
       "    <tr>\n",
       "      <th>2</th>\n",
       "      <td>48773</td>\n",
       "      <td>125</td>\n",
       "      <td>4</td>\n",
       "      <td>0</td>\n",
       "      <td>30.0</td>\n",
       "      <td>1</td>\n",
       "      <td>6</td>\n",
       "      <td>Top of the funnel</td>\n",
       "      <td>2021</td>\n",
       "      <td>8</td>\n",
       "      <td>13</td>\n",
       "    </tr>\n",
       "    <tr>\n",
       "      <th>3</th>\n",
       "      <td>15197</td>\n",
       "      <td>16</td>\n",
       "      <td>4</td>\n",
       "      <td>0</td>\n",
       "      <td>45.0</td>\n",
       "      <td>1</td>\n",
       "      <td>6</td>\n",
       "      <td>Top of the funnel</td>\n",
       "      <td>2022</td>\n",
       "      <td>5</td>\n",
       "      <td>7</td>\n",
       "    </tr>\n",
       "    <tr>\n",
       "      <th>4</th>\n",
       "      <td>69092</td>\n",
       "      <td>125</td>\n",
       "      <td>4</td>\n",
       "      <td>0</td>\n",
       "      <td>30.0</td>\n",
       "      <td>1</td>\n",
       "      <td>6</td>\n",
       "      <td>Top of the funnel</td>\n",
       "      <td>2021</td>\n",
       "      <td>1</td>\n",
       "      <td>21</td>\n",
       "    </tr>\n",
       "  </tbody>\n",
       "</table>\n",
       "</div>"
      ],
      "text/plain": [
       "   subscriber_id  agent_id  entry_channel_id  stage_status  subscriber_age  \\\n",
       "0          81824       372                 4             0            40.0   \n",
       "1          76356       136                 4             0            36.0   \n",
       "2          48773       125                 4             0            30.0   \n",
       "3          15197        16                 4             0            45.0   \n",
       "4          69092       125                 4             0            30.0   \n",
       "\n",
       "   gender  city                  label  year  month  day  \n",
       "0       1     6  Issued Guarantor Form  2022      7   18  \n",
       "1       1     0  Issued Guarantor Form  2022      8    5  \n",
       "2       1     6      Top of the funnel  2021      8   13  \n",
       "3       1     6      Top of the funnel  2022      5    7  \n",
       "4       1     6      Top of the funnel  2021      1   21  "
      ]
     },
     "execution_count": 238,
     "metadata": {},
     "output_type": "execute_result"
    }
   ],
   "source": [
    "train.head()"
   ]
  },
  {
   "cell_type": "code",
   "execution_count": 239,
   "id": "be84167c",
   "metadata": {},
   "outputs": [
    {
     "data": {
      "text/html": [
       "<div>\n",
       "<style scoped>\n",
       "    .dataframe tbody tr th:only-of-type {\n",
       "        vertical-align: middle;\n",
       "    }\n",
       "\n",
       "    .dataframe tbody tr th {\n",
       "        vertical-align: top;\n",
       "    }\n",
       "\n",
       "    .dataframe thead th {\n",
       "        text-align: right;\n",
       "    }\n",
       "</style>\n",
       "<table border=\"1\" class=\"dataframe\">\n",
       "  <thead>\n",
       "    <tr style=\"text-align: right;\">\n",
       "      <th></th>\n",
       "      <th>subscriber_id</th>\n",
       "      <th>agent_id</th>\n",
       "      <th>entry_channel_id</th>\n",
       "      <th>stage_status</th>\n",
       "      <th>subscriber_age</th>\n",
       "      <th>gender</th>\n",
       "      <th>city</th>\n",
       "      <th>year</th>\n",
       "      <th>month</th>\n",
       "      <th>day</th>\n",
       "    </tr>\n",
       "  </thead>\n",
       "  <tbody>\n",
       "    <tr>\n",
       "      <th>0</th>\n",
       "      <td>22317</td>\n",
       "      <td>144</td>\n",
       "      <td>4</td>\n",
       "      <td>0</td>\n",
       "      <td>35.0</td>\n",
       "      <td>1</td>\n",
       "      <td>6</td>\n",
       "      <td>2021</td>\n",
       "      <td>9</td>\n",
       "      <td>23</td>\n",
       "    </tr>\n",
       "    <tr>\n",
       "      <th>1</th>\n",
       "      <td>65812</td>\n",
       "      <td>147</td>\n",
       "      <td>4</td>\n",
       "      <td>0</td>\n",
       "      <td>35.0</td>\n",
       "      <td>1</td>\n",
       "      <td>3</td>\n",
       "      <td>2021</td>\n",
       "      <td>6</td>\n",
       "      <td>15</td>\n",
       "    </tr>\n",
       "    <tr>\n",
       "      <th>2</th>\n",
       "      <td>50117</td>\n",
       "      <td>14</td>\n",
       "      <td>4</td>\n",
       "      <td>0</td>\n",
       "      <td>36.0</td>\n",
       "      <td>1</td>\n",
       "      <td>6</td>\n",
       "      <td>2022</td>\n",
       "      <td>1</td>\n",
       "      <td>18</td>\n",
       "    </tr>\n",
       "    <tr>\n",
       "      <th>3</th>\n",
       "      <td>2013</td>\n",
       "      <td>267</td>\n",
       "      <td>4</td>\n",
       "      <td>0</td>\n",
       "      <td>40.0</td>\n",
       "      <td>1</td>\n",
       "      <td>3</td>\n",
       "      <td>2021</td>\n",
       "      <td>8</td>\n",
       "      <td>10</td>\n",
       "    </tr>\n",
       "    <tr>\n",
       "      <th>4</th>\n",
       "      <td>68570</td>\n",
       "      <td>59</td>\n",
       "      <td>4</td>\n",
       "      <td>0</td>\n",
       "      <td>30.0</td>\n",
       "      <td>1</td>\n",
       "      <td>9</td>\n",
       "      <td>2022</td>\n",
       "      <td>5</td>\n",
       "      <td>18</td>\n",
       "    </tr>\n",
       "  </tbody>\n",
       "</table>\n",
       "</div>"
      ],
      "text/plain": [
       "   subscriber_id  agent_id  entry_channel_id  stage_status  subscriber_age  \\\n",
       "0          22317       144                 4             0            35.0   \n",
       "1          65812       147                 4             0            35.0   \n",
       "2          50117        14                 4             0            36.0   \n",
       "3           2013       267                 4             0            40.0   \n",
       "4          68570        59                 4             0            30.0   \n",
       "\n",
       "   gender  city  year  month  day  \n",
       "0       1     6  2021      9   23  \n",
       "1       1     3  2021      6   15  \n",
       "2       1     6  2022      1   18  \n",
       "3       1     3  2021      8   10  \n",
       "4       1     9  2022      5   18  "
      ]
     },
     "execution_count": 239,
     "metadata": {},
     "output_type": "execute_result"
    }
   ],
   "source": [
    "test.head()"
   ]
  },
  {
   "cell_type": "code",
   "execution_count": 240,
   "id": "58ca9f2a",
   "metadata": {},
   "outputs": [],
   "source": [
    "from catboost import CatBoostClassifier, Pool\n",
    "from catboost.utils import eval_metric\n",
    "from sklearn.datasets import make_multilabel_classification\n",
    "from sklearn.model_selection import train_test_split"
   ]
  },
  {
   "cell_type": "code",
   "execution_count": 241,
   "id": "270befa2",
   "metadata": {},
   "outputs": [],
   "source": [
    "X = train.drop('label', axis=1)\n",
    "y = pd.get_dummies(train.label).values"
   ]
  },
  {
   "cell_type": "code",
   "execution_count": 248,
   "id": "bc530fef",
   "metadata": {},
   "outputs": [],
   "source": [
    "# X, Y = make_multilabel_classification(n_samples=500, n_features=20, n_classes=5, random_state=0)\n",
    "X_train, X_test, y_train, y_test = train_test_split(X, y, test_size=0.3 )\n",
    "train_pool = Pool(X_train, y_train)\n",
    "test_pool = Pool(X_test, y_test)"
   ]
  },
  {
   "cell_type": "code",
   "execution_count": 249,
   "id": "9e467a40",
   "metadata": {},
   "outputs": [],
   "source": [
    "label_name = pd.get_dummies(train.label).columns"
   ]
  },
  {
   "cell_type": "code",
   "execution_count": 250,
   "id": "941ef94f",
   "metadata": {},
   "outputs": [
    {
     "data": {
      "text/plain": [
       "array([[5.2494e+04, 2.6100e+02, 4.0000e+00, ..., 2.0210e+03, 7.0000e+00,\n",
       "        2.9000e+01],\n",
       "       [4.2159e+04, 2.2400e+02, 4.0000e+00, ..., 2.0210e+03, 8.0000e+00,\n",
       "        9.0000e+00],\n",
       "       [1.6663e+04, 2.7900e+02, 4.0000e+00, ..., 2.0220e+03, 7.0000e+00,\n",
       "        2.1000e+01],\n",
       "       ...,\n",
       "       [6.3621e+04, 5.1000e+01, 2.0000e+00, ..., 2.0220e+03, 5.0000e+00,\n",
       "        1.1000e+01],\n",
       "       [4.3754e+04, 1.9100e+02, 4.0000e+00, ..., 2.0220e+03, 7.0000e+00,\n",
       "        2.8000e+01],\n",
       "       [9.5260e+03, 1.2500e+02, 4.0000e+00, ..., 2.0220e+03, 2.0000e+00,\n",
       "        1.0000e+00]])"
      ]
     },
     "execution_count": 250,
     "metadata": {},
     "output_type": "execute_result"
    }
   ],
   "source": [
    "X_train.values"
   ]
  },
  {
   "cell_type": "code",
   "execution_count": 251,
   "id": "0faef86b",
   "metadata": {},
   "outputs": [
    {
     "data": {
      "text/plain": [
       "150392"
      ]
     },
     "execution_count": 251,
     "metadata": {},
     "output_type": "execute_result"
    }
   ],
   "source": [
    "len(y_train)"
   ]
  },
  {
   "cell_type": "code",
   "execution_count": 252,
   "id": "21d66a90",
   "metadata": {},
   "outputs": [
    {
     "data": {
      "text/plain": [
       "150392"
      ]
     },
     "execution_count": 252,
     "metadata": {},
     "output_type": "execute_result"
    }
   ],
   "source": [
    "len(X_train)"
   ]
  },
  {
   "cell_type": "code",
   "execution_count": 253,
   "id": "efbbcf7f",
   "metadata": {},
   "outputs": [
    {
     "name": "stdout",
     "output_type": "stream",
     "text": [
      "Learning rate set to 0.087621\n",
      "0:\tlearn: 0.5680944\ttotal: 2.23s\tremaining: 37m 6s\n",
      "50:\tlearn: 0.2069423\ttotal: 1m 49s\tremaining: 33m 59s\n",
      "100:\tlearn: 0.2039258\ttotal: 3m 31s\tremaining: 31m 24s\n",
      "150:\tlearn: 0.2020044\ttotal: 4m 28s\tremaining: 25m 11s\n",
      "200:\tlearn: 0.2005362\ttotal: 5m 27s\tremaining: 21m 42s\n",
      "250:\tlearn: 0.1993389\ttotal: 6m 23s\tremaining: 19m 2s\n",
      "300:\tlearn: 0.1983459\ttotal: 7m 19s\tremaining: 16m 59s\n",
      "350:\tlearn: 0.1975255\ttotal: 8m 21s\tremaining: 15m 27s\n",
      "400:\tlearn: 0.1967545\ttotal: 9m 21s\tremaining: 13m 58s\n",
      "450:\tlearn: 0.1960992\ttotal: 10m 23s\tremaining: 12m 39s\n",
      "500:\tlearn: 0.1955103\ttotal: 11m 28s\tremaining: 11m 26s\n",
      "550:\tlearn: 0.1949356\ttotal: 12m 39s\tremaining: 10m 19s\n",
      "600:\tlearn: 0.1943529\ttotal: 13m 45s\tremaining: 9m 8s\n",
      "650:\tlearn: 0.1938477\ttotal: 15m 1s\tremaining: 8m 3s\n",
      "700:\tlearn: 0.1933507\ttotal: 16m 8s\tremaining: 6m 53s\n",
      "750:\tlearn: 0.1928823\ttotal: 17m 19s\tremaining: 5m 44s\n",
      "800:\tlearn: 0.1924688\ttotal: 18m 25s\tremaining: 4m 34s\n",
      "850:\tlearn: 0.1920166\ttotal: 19m 29s\tremaining: 3m 24s\n",
      "900:\tlearn: 0.1916463\ttotal: 20m 29s\tremaining: 2m 15s\n",
      "950:\tlearn: 0.1912875\ttotal: 21m 33s\tremaining: 1m 6s\n",
      "999:\tlearn: 0.1909159\ttotal: 22m 45s\tremaining: 0us\n"
     ]
    },
    {
     "data": {
      "text/plain": [
       "<catboost.core.CatBoostClassifier at 0x19b9bfd0ac0>"
      ]
     },
     "execution_count": 253,
     "metadata": {},
     "output_type": "execute_result"
    }
   ],
   "source": [
    "clf = CatBoostClassifier(\n",
    "    loss_function='MultiCrossEntropy',\n",
    "# #     eval_metric='HammingLoss',\n",
    "#     iterations=500,\n",
    "#     class_names=label_name\n",
    ")\n",
    "clf.fit(X_train, y_train,verbose=50)"
   ]
  },
  {
   "cell_type": "code",
   "execution_count": null,
   "id": "4ad8500c",
   "metadata": {},
   "outputs": [
    {
     "name": "stdout",
     "output_type": "stream",
     "text": [
      "Learning rate set to 0.020029\n",
      "0:\tlearn: 0.6615785\ttotal: 1.68s\tremaining: 2h 20m 7s\n",
      "100:\tlearn: 0.2149026\ttotal: 2m\tremaining: 1h 37m 16s\n",
      "200:\tlearn: 0.2075755\ttotal: 3m 52s\tremaining: 1h 32m 22s\n",
      "300:\tlearn: 0.2055174\ttotal: 5m 48s\tremaining: 1h 30m 44s\n",
      "400:\tlearn: 0.2044005\ttotal: 7m 42s\tremaining: 1h 28m 25s\n",
      "500:\tlearn: 0.2034322\ttotal: 9m 45s\tremaining: 1h 27m 35s\n",
      "600:\tlearn: 0.2026194\ttotal: 11m 57s\tremaining: 1h 27m 30s\n",
      "700:\tlearn: 0.2018225\ttotal: 13m 58s\tremaining: 1h 25m 41s\n",
      "800:\tlearn: 0.2011121\ttotal: 15m 49s\tremaining: 1h 22m 56s\n",
      "900:\tlearn: 0.2005182\ttotal: 17m 31s\tremaining: 1h 19m 44s\n",
      "1000:\tlearn: 0.1999721\ttotal: 19m 12s\tremaining: 1h 16m 46s\n",
      "1100:\tlearn: 0.1994744\ttotal: 20m 56s\tremaining: 1h 14m 9s\n",
      "1200:\tlearn: 0.1990054\ttotal: 22m 37s\tremaining: 1h 11m 34s\n",
      "1300:\tlearn: 0.1985768\ttotal: 24m 17s\tremaining: 1h 9m 4s\n",
      "1400:\tlearn: 0.1981639\ttotal: 26m 2s\tremaining: 1h 6m 53s\n",
      "1500:\tlearn: 0.1977612\ttotal: 29m 2s\tremaining: 1h 7m 41s\n",
      "1600:\tlearn: 0.1973912\ttotal: 29m 41s\tremaining: 1h 3m 1s\n",
      "1700:\tlearn: 0.1970643\ttotal: 30m 17s\tremaining: 58m 44s\n",
      "1800:\tlearn: 0.1967347\ttotal: 30m 59s\tremaining: 55m 3s\n",
      "1900:\tlearn: 0.1964216\ttotal: 31m 37s\tremaining: 51m 34s\n",
      "2000:\tlearn: 0.1961239\ttotal: 32m 17s\tremaining: 48m 23s\n",
      "2100:\tlearn: 0.1958426\ttotal: 32m 55s\tremaining: 45m 26s\n",
      "2200:\tlearn: 0.1955610\ttotal: 33m 35s\tremaining: 42m 43s\n",
      "2300:\tlearn: 0.1952961\ttotal: 34m 18s\tremaining: 40m 14s\n",
      "2400:\tlearn: 0.1950363\ttotal: 34m 59s\tremaining: 37m 53s\n",
      "2500:\tlearn: 0.1947945\ttotal: 35m 40s\tremaining: 35m 38s\n",
      "2600:\tlearn: 0.1945388\ttotal: 36m 18s\tremaining: 33m 29s\n",
      "2700:\tlearn: 0.1943016\ttotal: 36m 57s\tremaining: 31m 27s\n",
      "2800:\tlearn: 0.1940727\ttotal: 37m 38s\tremaining: 29m 32s\n",
      "2900:\tlearn: 0.1938552\ttotal: 38m 17s\tremaining: 27m 42s\n",
      "3000:\tlearn: 0.1936228\ttotal: 38m 57s\tremaining: 25m 56s\n",
      "3100:\tlearn: 0.1933907\ttotal: 39m 34s\tremaining: 24m 14s\n"
     ]
    }
   ],
   "source": [
    "clf = CatBoostClassifier(n_estimators=5000,\n",
    "    loss_function='MultiCrossEntropy',\n",
    "# #     eval_metric='HammingLoss',\n",
    "#     iterations=500,\n",
    "#     class_names=label_name\n",
    ")\n",
    "clf.fit(X_train, y_train,verbose=100)"
   ]
  },
  {
   "cell_type": "code",
   "execution_count": 151,
   "id": "3a7aa02c",
   "metadata": {},
   "outputs": [
    {
     "name": "stdout",
     "output_type": "stream",
     "text": [
      "Learning rate set to 0.087621\n",
      "0:\tlearn: 0.5727963\ttotal: 463ms\tremaining: 7m 42s\n",
      "50:\tlearn: 0.2137288\ttotal: 16.6s\tremaining: 5m 8s\n",
      "100:\tlearn: 0.2112876\ttotal: 32.6s\tremaining: 4m 50s\n",
      "150:\tlearn: 0.2100251\ttotal: 49s\tremaining: 4m 35s\n",
      "200:\tlearn: 0.2087603\ttotal: 1m 5s\tremaining: 4m 20s\n",
      "250:\tlearn: 0.2078271\ttotal: 1m 22s\tremaining: 4m 5s\n",
      "300:\tlearn: 0.2070120\ttotal: 1m 40s\tremaining: 3m 52s\n",
      "350:\tlearn: 0.2063875\ttotal: 1m 57s\tremaining: 3m 36s\n",
      "400:\tlearn: 0.2058008\ttotal: 2m 15s\tremaining: 3m 22s\n",
      "450:\tlearn: 0.2052640\ttotal: 2m 32s\tremaining: 3m 5s\n",
      "500:\tlearn: 0.2047324\ttotal: 2m 50s\tremaining: 2m 49s\n",
      "550:\tlearn: 0.2043142\ttotal: 3m 7s\tremaining: 2m 32s\n",
      "600:\tlearn: 0.2038777\ttotal: 3m 25s\tremaining: 2m 16s\n",
      "650:\tlearn: 0.2035021\ttotal: 3m 43s\tremaining: 1m 59s\n",
      "700:\tlearn: 0.2031436\ttotal: 4m 1s\tremaining: 1m 42s\n",
      "750:\tlearn: 0.2028270\ttotal: 4m 18s\tremaining: 1m 25s\n",
      "800:\tlearn: 0.2024567\ttotal: 4m 35s\tremaining: 1m 8s\n",
      "850:\tlearn: 0.2021275\ttotal: 4m 53s\tremaining: 51.4s\n",
      "900:\tlearn: 0.2018429\ttotal: 5m 10s\tremaining: 34.1s\n",
      "950:\tlearn: 0.2015334\ttotal: 5m 27s\tremaining: 16.9s\n",
      "999:\tlearn: 0.2012012\ttotal: 5m 44s\tremaining: 0us\n"
     ]
    },
    {
     "data": {
      "text/plain": [
       "<catboost.core.CatBoostClassifier at 0x19bf8967490>"
      ]
     },
     "execution_count": 151,
     "metadata": {},
     "output_type": "execute_result"
    }
   ],
   "source": [
    "clf = CatBoostClassifier(\n",
    "    loss_function='MultiCrossEntropy',\n",
    "# #     eval_metric='HammingLoss',\n",
    "#     iterations=500,\n",
    "#     class_names=label_name\n",
    ")\n",
    "clf.fit(X_train, y_train,verbose=50)"
   ]
  },
  {
   "cell_type": "code",
   "execution_count": 254,
   "id": "d6e4297e",
   "metadata": {},
   "outputs": [],
   "source": [
    "pred = clf.predict_proba(test)"
   ]
  },
  {
   "cell_type": "code",
   "execution_count": 255,
   "id": "2c6a0a95",
   "metadata": {},
   "outputs": [],
   "source": [
    "result = pd.DataFrame(pred, columns=col)"
   ]
  },
  {
   "cell_type": "code",
   "execution_count": 256,
   "id": "0f968290",
   "metadata": {},
   "outputs": [],
   "source": [
    "result['ID'] =sub['ID']"
   ]
  },
  {
   "cell_type": "code",
   "execution_count": 184,
   "id": "452c9ab1",
   "metadata": {},
   "outputs": [],
   "source": [
    "new['ID'] = sub['ID']\n",
    "new[sub.columns].to_csv('combo.csv', index=False)"
   ]
  },
  {
   "cell_type": "code",
   "execution_count": 186,
   "id": "5ebe673c",
   "metadata": {},
   "outputs": [
    {
     "data": {
      "text/html": [
       "<div>\n",
       "<style scoped>\n",
       "    .dataframe tbody tr th:only-of-type {\n",
       "        vertical-align: middle;\n",
       "    }\n",
       "\n",
       "    .dataframe tbody tr th {\n",
       "        vertical-align: top;\n",
       "    }\n",
       "\n",
       "    .dataframe thead th {\n",
       "        text-align: right;\n",
       "    }\n",
       "</style>\n",
       "<table border=\"1\" class=\"dataframe\">\n",
       "  <thead>\n",
       "    <tr style=\"text-align: right;\">\n",
       "      <th></th>\n",
       "      <th>ID</th>\n",
       "      <th>Activated</th>\n",
       "      <th>Awaiting Activation</th>\n",
       "      <th>Awaiting Vehicle Pickup</th>\n",
       "      <th>Backlog</th>\n",
       "      <th>Checked In For Test</th>\n",
       "      <th>In Verification</th>\n",
       "      <th>Issued Guarantor Form</th>\n",
       "      <th>Onboarding</th>\n",
       "      <th>Received Guarantor Form</th>\n",
       "      <th>Test Scheduled</th>\n",
       "      <th>Tested</th>\n",
       "      <th>Top of the funnel</th>\n",
       "    </tr>\n",
       "  </thead>\n",
       "  <tbody>\n",
       "    <tr>\n",
       "      <th>0</th>\n",
       "      <td>ID_04I3F51N</td>\n",
       "      <td>0.059357</td>\n",
       "      <td>0.026378</td>\n",
       "      <td>0.050706</td>\n",
       "      <td>1.357436e-09</td>\n",
       "      <td>0.088505</td>\n",
       "      <td>0.032235</td>\n",
       "      <td>0.060330</td>\n",
       "      <td>0.032920</td>\n",
       "      <td>0.027785</td>\n",
       "      <td>0.272062</td>\n",
       "      <td>0.048753</td>\n",
       "      <td>0.305702</td>\n",
       "    </tr>\n",
       "    <tr>\n",
       "      <th>1</th>\n",
       "      <td>ID_RL7OZ03G</td>\n",
       "      <td>0.027989</td>\n",
       "      <td>0.013879</td>\n",
       "      <td>0.043148</td>\n",
       "      <td>3.257203e-09</td>\n",
       "      <td>0.082839</td>\n",
       "      <td>0.023991</td>\n",
       "      <td>0.052692</td>\n",
       "      <td>0.018092</td>\n",
       "      <td>0.019230</td>\n",
       "      <td>0.324867</td>\n",
       "      <td>0.051185</td>\n",
       "      <td>0.306341</td>\n",
       "    </tr>\n",
       "    <tr>\n",
       "      <th>2</th>\n",
       "      <td>ID_880UB1KT</td>\n",
       "      <td>0.041082</td>\n",
       "      <td>0.029112</td>\n",
       "      <td>0.064271</td>\n",
       "      <td>6.678092e-09</td>\n",
       "      <td>0.073653</td>\n",
       "      <td>0.032132</td>\n",
       "      <td>0.068938</td>\n",
       "      <td>0.038691</td>\n",
       "      <td>0.029065</td>\n",
       "      <td>0.213664</td>\n",
       "      <td>0.046297</td>\n",
       "      <td>0.357471</td>\n",
       "    </tr>\n",
       "    <tr>\n",
       "      <th>3</th>\n",
       "      <td>ID_P46W8LVS</td>\n",
       "      <td>0.026502</td>\n",
       "      <td>0.016749</td>\n",
       "      <td>0.033315</td>\n",
       "      <td>2.371457e-08</td>\n",
       "      <td>0.084132</td>\n",
       "      <td>0.022268</td>\n",
       "      <td>0.046003</td>\n",
       "      <td>0.022181</td>\n",
       "      <td>0.028705</td>\n",
       "      <td>0.343143</td>\n",
       "      <td>0.054567</td>\n",
       "      <td>0.329807</td>\n",
       "    </tr>\n",
       "    <tr>\n",
       "      <th>4</th>\n",
       "      <td>ID_JHON927V</td>\n",
       "      <td>0.038863</td>\n",
       "      <td>0.013502</td>\n",
       "      <td>0.084342</td>\n",
       "      <td>1.407462e-08</td>\n",
       "      <td>0.102663</td>\n",
       "      <td>0.045529</td>\n",
       "      <td>0.096573</td>\n",
       "      <td>0.044379</td>\n",
       "      <td>0.079067</td>\n",
       "      <td>0.207912</td>\n",
       "      <td>0.071271</td>\n",
       "      <td>0.215594</td>\n",
       "    </tr>\n",
       "    <tr>\n",
       "      <th>...</th>\n",
       "      <td>...</td>\n",
       "      <td>...</td>\n",
       "      <td>...</td>\n",
       "      <td>...</td>\n",
       "      <td>...</td>\n",
       "      <td>...</td>\n",
       "      <td>...</td>\n",
       "      <td>...</td>\n",
       "      <td>...</td>\n",
       "      <td>...</td>\n",
       "      <td>...</td>\n",
       "      <td>...</td>\n",
       "      <td>...</td>\n",
       "    </tr>\n",
       "    <tr>\n",
       "      <th>92073</th>\n",
       "      <td>ID_Y52L9ECX</td>\n",
       "      <td>0.028626</td>\n",
       "      <td>0.004730</td>\n",
       "      <td>0.087397</td>\n",
       "      <td>1.611517e-08</td>\n",
       "      <td>0.110005</td>\n",
       "      <td>0.024805</td>\n",
       "      <td>0.087657</td>\n",
       "      <td>0.038692</td>\n",
       "      <td>0.051250</td>\n",
       "      <td>0.240596</td>\n",
       "      <td>0.059427</td>\n",
       "      <td>0.259541</td>\n",
       "    </tr>\n",
       "    <tr>\n",
       "      <th>92074</th>\n",
       "      <td>ID_HW1J30MC</td>\n",
       "      <td>0.015399</td>\n",
       "      <td>0.000539</td>\n",
       "      <td>0.019968</td>\n",
       "      <td>4.501507e-08</td>\n",
       "      <td>0.134751</td>\n",
       "      <td>0.011509</td>\n",
       "      <td>0.097741</td>\n",
       "      <td>0.009777</td>\n",
       "      <td>0.036990</td>\n",
       "      <td>0.341489</td>\n",
       "      <td>0.042501</td>\n",
       "      <td>0.313415</td>\n",
       "    </tr>\n",
       "    <tr>\n",
       "      <th>92075</th>\n",
       "      <td>ID_JUCRN3HX</td>\n",
       "      <td>0.000004</td>\n",
       "      <td>0.000004</td>\n",
       "      <td>0.001333</td>\n",
       "      <td>2.713104e-08</td>\n",
       "      <td>0.000063</td>\n",
       "      <td>0.000037</td>\n",
       "      <td>0.218927</td>\n",
       "      <td>0.000707</td>\n",
       "      <td>0.232374</td>\n",
       "      <td>0.482405</td>\n",
       "      <td>0.000041</td>\n",
       "      <td>0.000086</td>\n",
       "    </tr>\n",
       "    <tr>\n",
       "      <th>92076</th>\n",
       "      <td>ID_PFSCZIBQ</td>\n",
       "      <td>0.029162</td>\n",
       "      <td>0.004502</td>\n",
       "      <td>0.037579</td>\n",
       "      <td>4.330325e-09</td>\n",
       "      <td>0.087983</td>\n",
       "      <td>0.007043</td>\n",
       "      <td>0.046940</td>\n",
       "      <td>0.010491</td>\n",
       "      <td>0.010060</td>\n",
       "      <td>0.362720</td>\n",
       "      <td>0.031731</td>\n",
       "      <td>0.367731</td>\n",
       "    </tr>\n",
       "    <tr>\n",
       "      <th>92077</th>\n",
       "      <td>ID_KGMCG2X2</td>\n",
       "      <td>0.024908</td>\n",
       "      <td>0.023223</td>\n",
       "      <td>0.015874</td>\n",
       "      <td>2.814229e-09</td>\n",
       "      <td>0.043179</td>\n",
       "      <td>0.020770</td>\n",
       "      <td>0.024106</td>\n",
       "      <td>0.021920</td>\n",
       "      <td>0.013672</td>\n",
       "      <td>0.261300</td>\n",
       "      <td>0.034410</td>\n",
       "      <td>0.511459</td>\n",
       "    </tr>\n",
       "  </tbody>\n",
       "</table>\n",
       "<p>92078 rows × 13 columns</p>\n",
       "</div>"
      ],
      "text/plain": [
       "                ID  Activated  Awaiting Activation  Awaiting Vehicle Pickup  \\\n",
       "0      ID_04I3F51N   0.059357             0.026378                 0.050706   \n",
       "1      ID_RL7OZ03G   0.027989             0.013879                 0.043148   \n",
       "2      ID_880UB1KT   0.041082             0.029112                 0.064271   \n",
       "3      ID_P46W8LVS   0.026502             0.016749                 0.033315   \n",
       "4      ID_JHON927V   0.038863             0.013502                 0.084342   \n",
       "...            ...        ...                  ...                      ...   \n",
       "92073  ID_Y52L9ECX   0.028626             0.004730                 0.087397   \n",
       "92074  ID_HW1J30MC   0.015399             0.000539                 0.019968   \n",
       "92075  ID_JUCRN3HX   0.000004             0.000004                 0.001333   \n",
       "92076  ID_PFSCZIBQ   0.029162             0.004502                 0.037579   \n",
       "92077  ID_KGMCG2X2   0.024908             0.023223                 0.015874   \n",
       "\n",
       "            Backlog  Checked In For Test  In Verification  \\\n",
       "0      1.357436e-09             0.088505         0.032235   \n",
       "1      3.257203e-09             0.082839         0.023991   \n",
       "2      6.678092e-09             0.073653         0.032132   \n",
       "3      2.371457e-08             0.084132         0.022268   \n",
       "4      1.407462e-08             0.102663         0.045529   \n",
       "...             ...                  ...              ...   \n",
       "92073  1.611517e-08             0.110005         0.024805   \n",
       "92074  4.501507e-08             0.134751         0.011509   \n",
       "92075  2.713104e-08             0.000063         0.000037   \n",
       "92076  4.330325e-09             0.087983         0.007043   \n",
       "92077  2.814229e-09             0.043179         0.020770   \n",
       "\n",
       "       Issued Guarantor Form  Onboarding  Received Guarantor Form  \\\n",
       "0                   0.060330    0.032920                 0.027785   \n",
       "1                   0.052692    0.018092                 0.019230   \n",
       "2                   0.068938    0.038691                 0.029065   \n",
       "3                   0.046003    0.022181                 0.028705   \n",
       "4                   0.096573    0.044379                 0.079067   \n",
       "...                      ...         ...                      ...   \n",
       "92073               0.087657    0.038692                 0.051250   \n",
       "92074               0.097741    0.009777                 0.036990   \n",
       "92075               0.218927    0.000707                 0.232374   \n",
       "92076               0.046940    0.010491                 0.010060   \n",
       "92077               0.024106    0.021920                 0.013672   \n",
       "\n",
       "       Test Scheduled    Tested  Top of the funnel  \n",
       "0            0.272062  0.048753           0.305702  \n",
       "1            0.324867  0.051185           0.306341  \n",
       "2            0.213664  0.046297           0.357471  \n",
       "3            0.343143  0.054567           0.329807  \n",
       "4            0.207912  0.071271           0.215594  \n",
       "...               ...       ...                ...  \n",
       "92073        0.240596  0.059427           0.259541  \n",
       "92074        0.341489  0.042501           0.313415  \n",
       "92075        0.482405  0.000041           0.000086  \n",
       "92076        0.362720  0.031731           0.367731  \n",
       "92077        0.261300  0.034410           0.511459  \n",
       "\n",
       "[92078 rows x 13 columns]"
      ]
     },
     "execution_count": 186,
     "metadata": {},
     "output_type": "execute_result"
    }
   ],
   "source": [
    "new[sub.columns]"
   ]
  },
  {
   "cell_type": "code",
   "execution_count": 257,
   "id": "797014d2",
   "metadata": {},
   "outputs": [],
   "source": [
    "result[sub.columns].to_csv('FINAL.csv', index=False)"
   ]
  },
  {
   "cell_type": "code",
   "execution_count": 176,
   "id": "615859a1",
   "metadata": {},
   "outputs": [],
   "source": [
    "result['Backlog'] = 0"
   ]
  },
  {
   "cell_type": "code",
   "execution_count": 177,
   "id": "ab90045a",
   "metadata": {},
   "outputs": [
    {
     "data": {
      "text/html": [
       "<div>\n",
       "<style scoped>\n",
       "    .dataframe tbody tr th:only-of-type {\n",
       "        vertical-align: middle;\n",
       "    }\n",
       "\n",
       "    .dataframe tbody tr th {\n",
       "        vertical-align: top;\n",
       "    }\n",
       "\n",
       "    .dataframe thead th {\n",
       "        text-align: right;\n",
       "    }\n",
       "</style>\n",
       "<table border=\"1\" class=\"dataframe\">\n",
       "  <thead>\n",
       "    <tr style=\"text-align: right;\">\n",
       "      <th></th>\n",
       "      <th>Activated</th>\n",
       "      <th>Awaiting Activation</th>\n",
       "      <th>Awaiting Vehicle Pickup</th>\n",
       "      <th>Backlog</th>\n",
       "      <th>Checked In For Test</th>\n",
       "      <th>In Verification</th>\n",
       "      <th>Issued Guarantor Form</th>\n",
       "      <th>Onboarding</th>\n",
       "      <th>Received Guarantor Form</th>\n",
       "      <th>Test Scheduled</th>\n",
       "      <th>Tested</th>\n",
       "      <th>Top of the funnel</th>\n",
       "      <th>ID</th>\n",
       "    </tr>\n",
       "  </thead>\n",
       "  <tbody>\n",
       "    <tr>\n",
       "      <th>0</th>\n",
       "      <td>0.062090</td>\n",
       "      <td>0.026677</td>\n",
       "      <td>0.047288</td>\n",
       "      <td>0</td>\n",
       "      <td>0.088893</td>\n",
       "      <td>0.032649</td>\n",
       "      <td>0.058486</td>\n",
       "      <td>0.032878</td>\n",
       "      <td>0.028218</td>\n",
       "      <td>0.271526</td>\n",
       "      <td>0.047354</td>\n",
       "      <td>0.309980</td>\n",
       "      <td>ID_04I3F51N</td>\n",
       "    </tr>\n",
       "    <tr>\n",
       "      <th>1</th>\n",
       "      <td>0.026598</td>\n",
       "      <td>0.014710</td>\n",
       "      <td>0.054156</td>\n",
       "      <td>0</td>\n",
       "      <td>0.079436</td>\n",
       "      <td>0.023902</td>\n",
       "      <td>0.054318</td>\n",
       "      <td>0.020115</td>\n",
       "      <td>0.023619</td>\n",
       "      <td>0.315244</td>\n",
       "      <td>0.054228</td>\n",
       "      <td>0.290058</td>\n",
       "      <td>ID_RL7OZ03G</td>\n",
       "    </tr>\n",
       "    <tr>\n",
       "      <th>2</th>\n",
       "      <td>0.042379</td>\n",
       "      <td>0.024861</td>\n",
       "      <td>0.065498</td>\n",
       "      <td>0</td>\n",
       "      <td>0.074116</td>\n",
       "      <td>0.029886</td>\n",
       "      <td>0.067302</td>\n",
       "      <td>0.036055</td>\n",
       "      <td>0.030772</td>\n",
       "      <td>0.206408</td>\n",
       "      <td>0.041691</td>\n",
       "      <td>0.374411</td>\n",
       "      <td>ID_880UB1KT</td>\n",
       "    </tr>\n",
       "    <tr>\n",
       "      <th>3</th>\n",
       "      <td>0.025653</td>\n",
       "      <td>0.018638</td>\n",
       "      <td>0.030075</td>\n",
       "      <td>0</td>\n",
       "      <td>0.081841</td>\n",
       "      <td>0.025892</td>\n",
       "      <td>0.044783</td>\n",
       "      <td>0.022280</td>\n",
       "      <td>0.023589</td>\n",
       "      <td>0.358368</td>\n",
       "      <td>0.056577</td>\n",
       "      <td>0.321158</td>\n",
       "      <td>ID_P46W8LVS</td>\n",
       "    </tr>\n",
       "    <tr>\n",
       "      <th>4</th>\n",
       "      <td>0.037658</td>\n",
       "      <td>0.010513</td>\n",
       "      <td>0.085176</td>\n",
       "      <td>0</td>\n",
       "      <td>0.103654</td>\n",
       "      <td>0.047627</td>\n",
       "      <td>0.091626</td>\n",
       "      <td>0.044106</td>\n",
       "      <td>0.073956</td>\n",
       "      <td>0.221749</td>\n",
       "      <td>0.070741</td>\n",
       "      <td>0.211071</td>\n",
       "      <td>ID_JHON927V</td>\n",
       "    </tr>\n",
       "    <tr>\n",
       "      <th>...</th>\n",
       "      <td>...</td>\n",
       "      <td>...</td>\n",
       "      <td>...</td>\n",
       "      <td>...</td>\n",
       "      <td>...</td>\n",
       "      <td>...</td>\n",
       "      <td>...</td>\n",
       "      <td>...</td>\n",
       "      <td>...</td>\n",
       "      <td>...</td>\n",
       "      <td>...</td>\n",
       "      <td>...</td>\n",
       "      <td>...</td>\n",
       "    </tr>\n",
       "    <tr>\n",
       "      <th>92073</th>\n",
       "      <td>0.024618</td>\n",
       "      <td>0.004017</td>\n",
       "      <td>0.082638</td>\n",
       "      <td>0</td>\n",
       "      <td>0.122863</td>\n",
       "      <td>0.021154</td>\n",
       "      <td>0.087143</td>\n",
       "      <td>0.033727</td>\n",
       "      <td>0.047197</td>\n",
       "      <td>0.237094</td>\n",
       "      <td>0.063672</td>\n",
       "      <td>0.267238</td>\n",
       "      <td>ID_Y52L9ECX</td>\n",
       "    </tr>\n",
       "    <tr>\n",
       "      <th>92074</th>\n",
       "      <td>0.017434</td>\n",
       "      <td>0.000586</td>\n",
       "      <td>0.021529</td>\n",
       "      <td>0</td>\n",
       "      <td>0.137866</td>\n",
       "      <td>0.011416</td>\n",
       "      <td>0.103144</td>\n",
       "      <td>0.010001</td>\n",
       "      <td>0.036364</td>\n",
       "      <td>0.339592</td>\n",
       "      <td>0.038475</td>\n",
       "      <td>0.314444</td>\n",
       "      <td>ID_HW1J30MC</td>\n",
       "    </tr>\n",
       "    <tr>\n",
       "      <th>92075</th>\n",
       "      <td>0.000002</td>\n",
       "      <td>0.000002</td>\n",
       "      <td>0.000559</td>\n",
       "      <td>0</td>\n",
       "      <td>0.000050</td>\n",
       "      <td>0.000035</td>\n",
       "      <td>0.224008</td>\n",
       "      <td>0.000401</td>\n",
       "      <td>0.232389</td>\n",
       "      <td>0.492535</td>\n",
       "      <td>0.000033</td>\n",
       "      <td>0.000069</td>\n",
       "      <td>ID_JUCRN3HX</td>\n",
       "    </tr>\n",
       "    <tr>\n",
       "      <th>92076</th>\n",
       "      <td>0.025268</td>\n",
       "      <td>0.005012</td>\n",
       "      <td>0.038924</td>\n",
       "      <td>0</td>\n",
       "      <td>0.088922</td>\n",
       "      <td>0.006540</td>\n",
       "      <td>0.046821</td>\n",
       "      <td>0.011695</td>\n",
       "      <td>0.008528</td>\n",
       "      <td>0.365423</td>\n",
       "      <td>0.031537</td>\n",
       "      <td>0.367343</td>\n",
       "      <td>ID_PFSCZIBQ</td>\n",
       "    </tr>\n",
       "    <tr>\n",
       "      <th>92077</th>\n",
       "      <td>0.023046</td>\n",
       "      <td>0.023034</td>\n",
       "      <td>0.013050</td>\n",
       "      <td>0</td>\n",
       "      <td>0.041657</td>\n",
       "      <td>0.018966</td>\n",
       "      <td>0.024881</td>\n",
       "      <td>0.020417</td>\n",
       "      <td>0.016109</td>\n",
       "      <td>0.258904</td>\n",
       "      <td>0.035853</td>\n",
       "      <td>0.514455</td>\n",
       "      <td>ID_KGMCG2X2</td>\n",
       "    </tr>\n",
       "  </tbody>\n",
       "</table>\n",
       "<p>92078 rows × 13 columns</p>\n",
       "</div>"
      ],
      "text/plain": [
       "       Activated  Awaiting Activation  Awaiting Vehicle Pickup  Backlog  \\\n",
       "0       0.062090             0.026677                 0.047288        0   \n",
       "1       0.026598             0.014710                 0.054156        0   \n",
       "2       0.042379             0.024861                 0.065498        0   \n",
       "3       0.025653             0.018638                 0.030075        0   \n",
       "4       0.037658             0.010513                 0.085176        0   \n",
       "...          ...                  ...                      ...      ...   \n",
       "92073   0.024618             0.004017                 0.082638        0   \n",
       "92074   0.017434             0.000586                 0.021529        0   \n",
       "92075   0.000002             0.000002                 0.000559        0   \n",
       "92076   0.025268             0.005012                 0.038924        0   \n",
       "92077   0.023046             0.023034                 0.013050        0   \n",
       "\n",
       "       Checked In For Test  In Verification  Issued Guarantor Form  \\\n",
       "0                 0.088893         0.032649               0.058486   \n",
       "1                 0.079436         0.023902               0.054318   \n",
       "2                 0.074116         0.029886               0.067302   \n",
       "3                 0.081841         0.025892               0.044783   \n",
       "4                 0.103654         0.047627               0.091626   \n",
       "...                    ...              ...                    ...   \n",
       "92073             0.122863         0.021154               0.087143   \n",
       "92074             0.137866         0.011416               0.103144   \n",
       "92075             0.000050         0.000035               0.224008   \n",
       "92076             0.088922         0.006540               0.046821   \n",
       "92077             0.041657         0.018966               0.024881   \n",
       "\n",
       "       Onboarding  Received Guarantor Form  Test Scheduled    Tested  \\\n",
       "0        0.032878                 0.028218        0.271526  0.047354   \n",
       "1        0.020115                 0.023619        0.315244  0.054228   \n",
       "2        0.036055                 0.030772        0.206408  0.041691   \n",
       "3        0.022280                 0.023589        0.358368  0.056577   \n",
       "4        0.044106                 0.073956        0.221749  0.070741   \n",
       "...           ...                      ...             ...       ...   \n",
       "92073    0.033727                 0.047197        0.237094  0.063672   \n",
       "92074    0.010001                 0.036364        0.339592  0.038475   \n",
       "92075    0.000401                 0.232389        0.492535  0.000033   \n",
       "92076    0.011695                 0.008528        0.365423  0.031537   \n",
       "92077    0.020417                 0.016109        0.258904  0.035853   \n",
       "\n",
       "       Top of the funnel           ID  \n",
       "0               0.309980  ID_04I3F51N  \n",
       "1               0.290058  ID_RL7OZ03G  \n",
       "2               0.374411  ID_880UB1KT  \n",
       "3               0.321158  ID_P46W8LVS  \n",
       "4               0.211071  ID_JHON927V  \n",
       "...                  ...          ...  \n",
       "92073           0.267238  ID_Y52L9ECX  \n",
       "92074           0.314444  ID_HW1J30MC  \n",
       "92075           0.000069  ID_JUCRN3HX  \n",
       "92076           0.367343  ID_PFSCZIBQ  \n",
       "92077           0.514455  ID_KGMCG2X2  \n",
       "\n",
       "[92078 rows x 13 columns]"
      ]
     },
     "execution_count": 177,
     "metadata": {},
     "output_type": "execute_result"
    }
   ],
   "source": [
    "result"
   ]
  },
  {
   "cell_type": "code",
   "execution_count": 158,
   "id": "69398298",
   "metadata": {},
   "outputs": [],
   "source": [
    "col = ['Activated', 'Awaiting Activation', 'Awaiting Vehicle Pickup',\n",
    "       'Backlog', 'Checked In For Test', 'In Verification',\n",
    "       'Issued Guarantor Form', 'Onboarding', 'Received Guarantor Form',\n",
    "        'Test Scheduled', 'Tested', 'Top of the funnel']"
   ]
  },
  {
   "cell_type": "code",
   "execution_count": 183,
   "id": "c0162402",
   "metadata": {},
   "outputs": [],
   "source": [
    "new = (pd.read_csv('please_abeg.csv')[col] + pd.read_csv('please_full.csv')[col])/2"
   ]
  },
  {
   "cell_type": "code",
   "execution_count": 156,
   "id": "72860226",
   "metadata": {},
   "outputs": [
    {
     "data": {
      "text/plain": [
       "Index(['ID', 'Activated', 'Awaiting Activation', 'Awaiting Vehicle Pickup',\n",
       "       'Backlog', 'Checked In For Test', 'In Verification',\n",
       "       'Issued Guarantor Form', 'Onboarding', 'Received Guarantor Form',\n",
       "       'Test Scheduled', 'Tested', 'Top of the funnel'],\n",
       "      dtype='object')"
      ]
     },
     "execution_count": 156,
     "metadata": {},
     "output_type": "execute_result"
    }
   ],
   "source": [
    "sub.columns"
   ]
  },
  {
   "cell_type": "code",
   "execution_count": 155,
   "id": "c6f15525",
   "metadata": {
    "scrolled": true
   },
   "outputs": [
    {
     "data": {
      "text/html": [
       "<div>\n",
       "<style scoped>\n",
       "    .dataframe tbody tr th:only-of-type {\n",
       "        vertical-align: middle;\n",
       "    }\n",
       "\n",
       "    .dataframe tbody tr th {\n",
       "        vertical-align: top;\n",
       "    }\n",
       "\n",
       "    .dataframe thead th {\n",
       "        text-align: right;\n",
       "    }\n",
       "</style>\n",
       "<table border=\"1\" class=\"dataframe\">\n",
       "  <thead>\n",
       "    <tr style=\"text-align: right;\">\n",
       "      <th></th>\n",
       "      <th>ID</th>\n",
       "      <th>Activated</th>\n",
       "      <th>Awaiting Activation</th>\n",
       "      <th>Awaiting Vehicle Pickup</th>\n",
       "      <th>Backlog</th>\n",
       "      <th>Checked In For Test</th>\n",
       "      <th>In Verification</th>\n",
       "      <th>Issued Guarantor Form</th>\n",
       "      <th>Onboarding</th>\n",
       "      <th>Received Guarantor Form</th>\n",
       "      <th>Test Scheduled</th>\n",
       "      <th>Tested</th>\n",
       "      <th>Top of the funnel</th>\n",
       "    </tr>\n",
       "  </thead>\n",
       "  <tbody>\n",
       "    <tr>\n",
       "      <th>0</th>\n",
       "      <td>ID_04I3F51N</td>\n",
       "      <td>0.0</td>\n",
       "      <td>0.0</td>\n",
       "      <td>0.0</td>\n",
       "      <td>0.0</td>\n",
       "      <td>0.0</td>\n",
       "      <td>0.0</td>\n",
       "      <td>0.0</td>\n",
       "      <td>0.0</td>\n",
       "      <td>0.0</td>\n",
       "      <td>0.0</td>\n",
       "      <td>0.0</td>\n",
       "      <td>0.0</td>\n",
       "    </tr>\n",
       "    <tr>\n",
       "      <th>1</th>\n",
       "      <td>ID_RL7OZ03G</td>\n",
       "      <td>0.0</td>\n",
       "      <td>0.0</td>\n",
       "      <td>0.0</td>\n",
       "      <td>0.0</td>\n",
       "      <td>0.0</td>\n",
       "      <td>0.0</td>\n",
       "      <td>0.0</td>\n",
       "      <td>0.0</td>\n",
       "      <td>0.0</td>\n",
       "      <td>0.0</td>\n",
       "      <td>0.0</td>\n",
       "      <td>0.0</td>\n",
       "    </tr>\n",
       "    <tr>\n",
       "      <th>2</th>\n",
       "      <td>ID_880UB1KT</td>\n",
       "      <td>0.0</td>\n",
       "      <td>0.0</td>\n",
       "      <td>0.0</td>\n",
       "      <td>0.0</td>\n",
       "      <td>0.0</td>\n",
       "      <td>0.0</td>\n",
       "      <td>0.0</td>\n",
       "      <td>0.0</td>\n",
       "      <td>0.0</td>\n",
       "      <td>0.0</td>\n",
       "      <td>0.0</td>\n",
       "      <td>0.0</td>\n",
       "    </tr>\n",
       "    <tr>\n",
       "      <th>3</th>\n",
       "      <td>ID_P46W8LVS</td>\n",
       "      <td>0.0</td>\n",
       "      <td>0.0</td>\n",
       "      <td>0.0</td>\n",
       "      <td>0.0</td>\n",
       "      <td>0.0</td>\n",
       "      <td>0.0</td>\n",
       "      <td>0.0</td>\n",
       "      <td>0.0</td>\n",
       "      <td>0.0</td>\n",
       "      <td>0.0</td>\n",
       "      <td>0.0</td>\n",
       "      <td>0.0</td>\n",
       "    </tr>\n",
       "    <tr>\n",
       "      <th>4</th>\n",
       "      <td>ID_JHON927V</td>\n",
       "      <td>0.0</td>\n",
       "      <td>0.0</td>\n",
       "      <td>0.0</td>\n",
       "      <td>0.0</td>\n",
       "      <td>0.0</td>\n",
       "      <td>0.0</td>\n",
       "      <td>0.0</td>\n",
       "      <td>0.0</td>\n",
       "      <td>0.0</td>\n",
       "      <td>0.0</td>\n",
       "      <td>0.0</td>\n",
       "      <td>0.0</td>\n",
       "    </tr>\n",
       "    <tr>\n",
       "      <th>...</th>\n",
       "      <td>...</td>\n",
       "      <td>...</td>\n",
       "      <td>...</td>\n",
       "      <td>...</td>\n",
       "      <td>...</td>\n",
       "      <td>...</td>\n",
       "      <td>...</td>\n",
       "      <td>...</td>\n",
       "      <td>...</td>\n",
       "      <td>...</td>\n",
       "      <td>...</td>\n",
       "      <td>...</td>\n",
       "      <td>...</td>\n",
       "    </tr>\n",
       "    <tr>\n",
       "      <th>92073</th>\n",
       "      <td>ID_Y52L9ECX</td>\n",
       "      <td>0.0</td>\n",
       "      <td>0.0</td>\n",
       "      <td>0.0</td>\n",
       "      <td>0.0</td>\n",
       "      <td>0.0</td>\n",
       "      <td>0.0</td>\n",
       "      <td>0.0</td>\n",
       "      <td>0.0</td>\n",
       "      <td>0.0</td>\n",
       "      <td>0.0</td>\n",
       "      <td>0.0</td>\n",
       "      <td>0.0</td>\n",
       "    </tr>\n",
       "    <tr>\n",
       "      <th>92074</th>\n",
       "      <td>ID_HW1J30MC</td>\n",
       "      <td>0.0</td>\n",
       "      <td>0.0</td>\n",
       "      <td>0.0</td>\n",
       "      <td>0.0</td>\n",
       "      <td>0.0</td>\n",
       "      <td>0.0</td>\n",
       "      <td>0.0</td>\n",
       "      <td>0.0</td>\n",
       "      <td>0.0</td>\n",
       "      <td>0.0</td>\n",
       "      <td>0.0</td>\n",
       "      <td>0.0</td>\n",
       "    </tr>\n",
       "    <tr>\n",
       "      <th>92075</th>\n",
       "      <td>ID_JUCRN3HX</td>\n",
       "      <td>0.0</td>\n",
       "      <td>0.0</td>\n",
       "      <td>0.0</td>\n",
       "      <td>0.0</td>\n",
       "      <td>0.0</td>\n",
       "      <td>0.0</td>\n",
       "      <td>0.0</td>\n",
       "      <td>0.0</td>\n",
       "      <td>0.0</td>\n",
       "      <td>0.0</td>\n",
       "      <td>0.0</td>\n",
       "      <td>0.0</td>\n",
       "    </tr>\n",
       "    <tr>\n",
       "      <th>92076</th>\n",
       "      <td>ID_PFSCZIBQ</td>\n",
       "      <td>0.0</td>\n",
       "      <td>0.0</td>\n",
       "      <td>0.0</td>\n",
       "      <td>0.0</td>\n",
       "      <td>0.0</td>\n",
       "      <td>0.0</td>\n",
       "      <td>0.0</td>\n",
       "      <td>0.0</td>\n",
       "      <td>0.0</td>\n",
       "      <td>0.0</td>\n",
       "      <td>0.0</td>\n",
       "      <td>0.0</td>\n",
       "    </tr>\n",
       "    <tr>\n",
       "      <th>92077</th>\n",
       "      <td>ID_KGMCG2X2</td>\n",
       "      <td>0.0</td>\n",
       "      <td>0.0</td>\n",
       "      <td>0.0</td>\n",
       "      <td>0.0</td>\n",
       "      <td>0.0</td>\n",
       "      <td>0.0</td>\n",
       "      <td>0.0</td>\n",
       "      <td>0.0</td>\n",
       "      <td>0.0</td>\n",
       "      <td>0.0</td>\n",
       "      <td>0.0</td>\n",
       "      <td>0.0</td>\n",
       "    </tr>\n",
       "  </tbody>\n",
       "</table>\n",
       "<p>92078 rows × 13 columns</p>\n",
       "</div>"
      ],
      "text/plain": [
       "                ID  Activated  Awaiting Activation  Awaiting Vehicle Pickup  \\\n",
       "0      ID_04I3F51N        0.0                  0.0                      0.0   \n",
       "1      ID_RL7OZ03G        0.0                  0.0                      0.0   \n",
       "2      ID_880UB1KT        0.0                  0.0                      0.0   \n",
       "3      ID_P46W8LVS        0.0                  0.0                      0.0   \n",
       "4      ID_JHON927V        0.0                  0.0                      0.0   \n",
       "...            ...        ...                  ...                      ...   \n",
       "92073  ID_Y52L9ECX        0.0                  0.0                      0.0   \n",
       "92074  ID_HW1J30MC        0.0                  0.0                      0.0   \n",
       "92075  ID_JUCRN3HX        0.0                  0.0                      0.0   \n",
       "92076  ID_PFSCZIBQ        0.0                  0.0                      0.0   \n",
       "92077  ID_KGMCG2X2        0.0                  0.0                      0.0   \n",
       "\n",
       "       Backlog  Checked In For Test  In Verification  Issued Guarantor Form  \\\n",
       "0          0.0                  0.0              0.0                    0.0   \n",
       "1          0.0                  0.0              0.0                    0.0   \n",
       "2          0.0                  0.0              0.0                    0.0   \n",
       "3          0.0                  0.0              0.0                    0.0   \n",
       "4          0.0                  0.0              0.0                    0.0   \n",
       "...        ...                  ...              ...                    ...   \n",
       "92073      0.0                  0.0              0.0                    0.0   \n",
       "92074      0.0                  0.0              0.0                    0.0   \n",
       "92075      0.0                  0.0              0.0                    0.0   \n",
       "92076      0.0                  0.0              0.0                    0.0   \n",
       "92077      0.0                  0.0              0.0                    0.0   \n",
       "\n",
       "       Onboarding  Received Guarantor Form  Test Scheduled  Tested  \\\n",
       "0             0.0                      0.0             0.0     0.0   \n",
       "1             0.0                      0.0             0.0     0.0   \n",
       "2             0.0                      0.0             0.0     0.0   \n",
       "3             0.0                      0.0             0.0     0.0   \n",
       "4             0.0                      0.0             0.0     0.0   \n",
       "...           ...                      ...             ...     ...   \n",
       "92073         0.0                      0.0             0.0     0.0   \n",
       "92074         0.0                      0.0             0.0     0.0   \n",
       "92075         0.0                      0.0             0.0     0.0   \n",
       "92076         0.0                      0.0             0.0     0.0   \n",
       "92077         0.0                      0.0             0.0     0.0   \n",
       "\n",
       "       Top of the funnel  \n",
       "0                    0.0  \n",
       "1                    0.0  \n",
       "2                    0.0  \n",
       "3                    0.0  \n",
       "4                    0.0  \n",
       "...                  ...  \n",
       "92073                0.0  \n",
       "92074                0.0  \n",
       "92075                0.0  \n",
       "92076                0.0  \n",
       "92077                0.0  \n",
       "\n",
       "[92078 rows x 13 columns]"
      ]
     },
     "execution_count": 155,
     "metadata": {},
     "output_type": "execute_result"
    }
   ],
   "source": [
    "sub"
   ]
  },
  {
   "cell_type": "code",
   "execution_count": 171,
   "id": "19fc6c02",
   "metadata": {},
   "outputs": [
    {
     "data": {
      "text/plain": [
       "array([[0, 0, 0, ..., 0, 0, 0],\n",
       "       [0, 0, 0, ..., 0, 0, 0],\n",
       "       [0, 0, 0, ..., 0, 0, 1],\n",
       "       ...,\n",
       "       [0, 0, 0, ..., 1, 0, 0],\n",
       "       [0, 0, 0, ..., 0, 0, 0],\n",
       "       [0, 0, 0, ..., 0, 0, 1]], dtype=uint8)"
      ]
     },
     "execution_count": 171,
     "metadata": {},
     "output_type": "execute_result"
    }
   ],
   "source": [
    "y"
   ]
  },
  {
   "cell_type": "code",
   "execution_count": null,
   "id": "654d0d09",
   "metadata": {},
   "outputs": [],
   "source": []
  }
 ],
 "metadata": {
  "kernelspec": {
   "display_name": "Python 3 (ipykernel)",
   "language": "python",
   "name": "python3"
  },
  "language_info": {
   "codemirror_mode": {
    "name": "ipython",
    "version": 3
   },
   "file_extension": ".py",
   "mimetype": "text/x-python",
   "name": "python",
   "nbconvert_exporter": "python",
   "pygments_lexer": "ipython3",
   "version": "3.9.12"
  }
 },
 "nbformat": 4,
 "nbformat_minor": 5
}
